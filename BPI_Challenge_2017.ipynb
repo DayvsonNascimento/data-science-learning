{
  "nbformat": 4,
  "nbformat_minor": 0,
  "metadata": {
    "colab": {
      "name": "BPI_Challenge_2017_02.ipynb",
      "provenance": [],
      "collapsed_sections": []
    },
    "kernelspec": {
      "name": "python3",
      "display_name": "Python 3"
    }
  },
  "cells": [
    {
      "cell_type": "markdown",
      "metadata": {
        "id": "bp9rDMTXnslg",
        "colab_type": "text"
      },
      "source": [
        "# About the dataset\n",
        "\n",
        "\n",
        "---\n",
        "\n",
        "The dataset is a real-life event log from a Dutch financial institute. The data containg information about loan processes from 2016 up to February 2nd 2017.\n",
        "\n",
        "The dataset is part of the 13th International Business Process Intelligence Workshop 2017, and can be found on [this](https://www.win.tue.nl/bpi/doku.php?id=2017:challenge) website.\n"
      ]
    },
    {
      "cell_type": "markdown",
      "metadata": {
        "id": "I61I0c249ED7",
        "colab_type": "text"
      },
      "source": [
        "The data is provided in two files:\n",
        "\n",
        "**The Application event log**. This event log contains all events with the application as the case ID. Any event related to an offer also refers to an OfferID.\n",
        "\n",
        "**The Offer event log**. This event log contains all events related to offers, with these offers as case ID. For each offer, a corresponding application is available.\n",
        "\n",
        "For the purpose of this analysis, only the **application event log** was used.\n",
        "\n"
      ]
    },
    {
      "cell_type": "markdown",
      "metadata": {
        "id": "wM2J2wLG2-Qy",
        "colab_type": "text"
      },
      "source": [
        "# Questions\n",
        "\n",
        "**I - What's the number of events in the applications per month in 2016?**\n",
        "\n",
        "**II - What's the number of successfull of applications in each month?**\n",
        "\n",
        "**III - Will the application finish this week?**\n",
        "\n",
        "\n",
        "\n"
      ]
    },
    {
      "cell_type": "markdown",
      "metadata": {
        "id": "0IjXl1A0XiTe",
        "colab_type": "text"
      },
      "source": [
        "# Analyses"
      ]
    },
    {
      "cell_type": "markdown",
      "metadata": {
        "id": "2OzlE1eYAIbQ",
        "colab_type": "text"
      },
      "source": [
        "**Importing libraries**"
      ]
    },
    {
      "cell_type": "code",
      "metadata": {
        "id": "tbzN27KO_mGs",
        "colab_type": "code",
        "colab": {}
      },
      "source": [
        "import pandas as pd\n",
        "import numpy as np\n",
        "from datetime import timedelta\n",
        "import matplotlib.pyplot as plt\n",
        "import seaborn as sns\n",
        "import calendar\n",
        "from google.colab import drive\n",
        "\n",
        "%matplotlib inline\n",
        "from sklearn.model_selection import train_test_split\n",
        "from sklearn.preprocessing import OneHotEncoder\n",
        "from sklearn import metrics\n",
        "from sklearn.linear_model import LogisticRegression\n",
        "from sklearn.tree import DecisionTreeClassifier\n",
        "from sklearn.neighbors import KNeighborsClassifier\n",
        "from sklearn.ensemble import RandomForestClassifier\n",
        "from sklearn.discriminant_analysis import LinearDiscriminantAnalysis\n",
        "from sklearn.naive_bayes import GaussianNB"
      ],
      "execution_count": 230,
      "outputs": []
    },
    {
      "cell_type": "markdown",
      "metadata": {
        "id": "_2i-Sn4qBb00",
        "colab_type": "text"
      },
      "source": [
        "**Loading the application event log**"
      ]
    },
    {
      "cell_type": "code",
      "metadata": {
        "id": "fxFfbqWyANwk",
        "colab_type": "code",
        "colab": {
          "base_uri": "https://localhost:8080/",
          "height": 34
        },
        "outputId": "9af527f0-b049-45ad-dafb-7284df64609e"
      },
      "source": [
        "drive.mount('/content/drive')"
      ],
      "execution_count": 191,
      "outputs": [
        {
          "output_type": "stream",
          "text": [
            "Drive already mounted at /content/drive; to attempt to forcibly remount, call drive.mount(\"/content/drive\", force_remount=True).\n"
          ],
          "name": "stdout"
        }
      ]
    },
    {
      "cell_type": "code",
      "metadata": {
        "id": "r98KVZStAUPj",
        "colab_type": "code",
        "colab": {}
      },
      "source": [
        "application_df = pd.read_csv('/content/drive/My Drive/content/BPI_Challenge_2017.csv')"
      ],
      "execution_count": 192,
      "outputs": []
    },
    {
      "cell_type": "markdown",
      "metadata": {
        "id": "Pq5ag16ZYOmD",
        "colab_type": "text"
      },
      "source": [
        "**Dataset overview**"
      ]
    },
    {
      "cell_type": "code",
      "metadata": {
        "id": "lCNIVBl5BY_1",
        "colab_type": "code",
        "colab": {
          "base_uri": "https://localhost:8080/",
          "height": 309
        },
        "outputId": "3bd44d20-08fd-4e1f-ab7a-0288970504b1"
      },
      "source": [
        "application_df.head()"
      ],
      "execution_count": 193,
      "outputs": [
        {
          "output_type": "execute_result",
          "data": {
            "text/html": [
              "<div>\n",
              "<style scoped>\n",
              "    .dataframe tbody tr th:only-of-type {\n",
              "        vertical-align: middle;\n",
              "    }\n",
              "\n",
              "    .dataframe tbody tr th {\n",
              "        vertical-align: top;\n",
              "    }\n",
              "\n",
              "    .dataframe thead th {\n",
              "        text-align: right;\n",
              "    }\n",
              "</style>\n",
              "<table border=\"1\" class=\"dataframe\">\n",
              "  <thead>\n",
              "    <tr style=\"text-align: right;\">\n",
              "      <th></th>\n",
              "      <th>Action</th>\n",
              "      <th>org:resource</th>\n",
              "      <th>concept:name</th>\n",
              "      <th>EventOrigin</th>\n",
              "      <th>EventID</th>\n",
              "      <th>lifecycle:transition</th>\n",
              "      <th>time:timestamp</th>\n",
              "      <th>case:LoanGoal</th>\n",
              "      <th>case:ApplicationType</th>\n",
              "      <th>case:concept:name</th>\n",
              "      <th>case:RequestedAmount</th>\n",
              "      <th>FirstWithdrawalAmount</th>\n",
              "      <th>NumberOfTerms</th>\n",
              "      <th>Accepted</th>\n",
              "      <th>MonthlyCost</th>\n",
              "      <th>Selected</th>\n",
              "      <th>CreditScore</th>\n",
              "      <th>OfferedAmount</th>\n",
              "      <th>OfferID</th>\n",
              "    </tr>\n",
              "  </thead>\n",
              "  <tbody>\n",
              "    <tr>\n",
              "      <th>0</th>\n",
              "      <td>Created</td>\n",
              "      <td>User_1</td>\n",
              "      <td>A_Create Application</td>\n",
              "      <td>Application</td>\n",
              "      <td>Application_652823628</td>\n",
              "      <td>complete</td>\n",
              "      <td>2016-01-01 09:51:15.304000+00:00</td>\n",
              "      <td>Existing loan takeover</td>\n",
              "      <td>New credit</td>\n",
              "      <td>Application_652823628</td>\n",
              "      <td>20000.0</td>\n",
              "      <td>NaN</td>\n",
              "      <td>NaN</td>\n",
              "      <td>NaN</td>\n",
              "      <td>NaN</td>\n",
              "      <td>NaN</td>\n",
              "      <td>NaN</td>\n",
              "      <td>NaN</td>\n",
              "      <td>NaN</td>\n",
              "    </tr>\n",
              "    <tr>\n",
              "      <th>1</th>\n",
              "      <td>statechange</td>\n",
              "      <td>User_1</td>\n",
              "      <td>A_Submitted</td>\n",
              "      <td>Application</td>\n",
              "      <td>ApplState_1582051990</td>\n",
              "      <td>complete</td>\n",
              "      <td>2016-01-01 09:51:15.352000+00:00</td>\n",
              "      <td>Existing loan takeover</td>\n",
              "      <td>New credit</td>\n",
              "      <td>Application_652823628</td>\n",
              "      <td>20000.0</td>\n",
              "      <td>NaN</td>\n",
              "      <td>NaN</td>\n",
              "      <td>NaN</td>\n",
              "      <td>NaN</td>\n",
              "      <td>NaN</td>\n",
              "      <td>NaN</td>\n",
              "      <td>NaN</td>\n",
              "      <td>NaN</td>\n",
              "    </tr>\n",
              "    <tr>\n",
              "      <th>2</th>\n",
              "      <td>Created</td>\n",
              "      <td>User_1</td>\n",
              "      <td>W_Handle leads</td>\n",
              "      <td>Workflow</td>\n",
              "      <td>Workitem_1298499574</td>\n",
              "      <td>schedule</td>\n",
              "      <td>2016-01-01 09:51:15.774000+00:00</td>\n",
              "      <td>Existing loan takeover</td>\n",
              "      <td>New credit</td>\n",
              "      <td>Application_652823628</td>\n",
              "      <td>20000.0</td>\n",
              "      <td>NaN</td>\n",
              "      <td>NaN</td>\n",
              "      <td>NaN</td>\n",
              "      <td>NaN</td>\n",
              "      <td>NaN</td>\n",
              "      <td>NaN</td>\n",
              "      <td>NaN</td>\n",
              "      <td>NaN</td>\n",
              "    </tr>\n",
              "    <tr>\n",
              "      <th>3</th>\n",
              "      <td>Deleted</td>\n",
              "      <td>User_1</td>\n",
              "      <td>W_Handle leads</td>\n",
              "      <td>Workflow</td>\n",
              "      <td>Workitem_1673366067</td>\n",
              "      <td>withdraw</td>\n",
              "      <td>2016-01-01 09:52:36.392000+00:00</td>\n",
              "      <td>Existing loan takeover</td>\n",
              "      <td>New credit</td>\n",
              "      <td>Application_652823628</td>\n",
              "      <td>20000.0</td>\n",
              "      <td>NaN</td>\n",
              "      <td>NaN</td>\n",
              "      <td>NaN</td>\n",
              "      <td>NaN</td>\n",
              "      <td>NaN</td>\n",
              "      <td>NaN</td>\n",
              "      <td>NaN</td>\n",
              "      <td>NaN</td>\n",
              "    </tr>\n",
              "    <tr>\n",
              "      <th>4</th>\n",
              "      <td>Created</td>\n",
              "      <td>User_1</td>\n",
              "      <td>W_Complete application</td>\n",
              "      <td>Workflow</td>\n",
              "      <td>Workitem_1493664571</td>\n",
              "      <td>schedule</td>\n",
              "      <td>2016-01-01 09:52:36.403000+00:00</td>\n",
              "      <td>Existing loan takeover</td>\n",
              "      <td>New credit</td>\n",
              "      <td>Application_652823628</td>\n",
              "      <td>20000.0</td>\n",
              "      <td>NaN</td>\n",
              "      <td>NaN</td>\n",
              "      <td>NaN</td>\n",
              "      <td>NaN</td>\n",
              "      <td>NaN</td>\n",
              "      <td>NaN</td>\n",
              "      <td>NaN</td>\n",
              "      <td>NaN</td>\n",
              "    </tr>\n",
              "  </tbody>\n",
              "</table>\n",
              "</div>"
            ],
            "text/plain": [
              "        Action org:resource  ... OfferedAmount OfferID\n",
              "0      Created       User_1  ...           NaN     NaN\n",
              "1  statechange       User_1  ...           NaN     NaN\n",
              "2      Created       User_1  ...           NaN     NaN\n",
              "3      Deleted       User_1  ...           NaN     NaN\n",
              "4      Created       User_1  ...           NaN     NaN\n",
              "\n",
              "[5 rows x 19 columns]"
            ]
          },
          "metadata": {
            "tags": []
          },
          "execution_count": 193
        }
      ]
    },
    {
      "cell_type": "code",
      "metadata": {
        "id": "wOHdwCwjBkER",
        "colab_type": "code",
        "colab": {
          "base_uri": "https://localhost:8080/",
          "height": 357
        },
        "outputId": "58782ad0-a661-4a37-cfcd-c16581eaad24"
      },
      "source": [
        "application_df.dtypes"
      ],
      "execution_count": 194,
      "outputs": [
        {
          "output_type": "execute_result",
          "data": {
            "text/plain": [
              "Action                    object\n",
              "org:resource              object\n",
              "concept:name              object\n",
              "EventOrigin               object\n",
              "EventID                   object\n",
              "lifecycle:transition      object\n",
              "time:timestamp            object\n",
              "case:LoanGoal             object\n",
              "case:ApplicationType      object\n",
              "case:concept:name         object\n",
              "case:RequestedAmount     float64\n",
              "FirstWithdrawalAmount    float64\n",
              "NumberOfTerms            float64\n",
              "Accepted                  object\n",
              "MonthlyCost              float64\n",
              "Selected                  object\n",
              "CreditScore              float64\n",
              "OfferedAmount            float64\n",
              "OfferID                   object\n",
              "dtype: object"
            ]
          },
          "metadata": {
            "tags": []
          },
          "execution_count": 194
        }
      ]
    },
    {
      "cell_type": "code",
      "metadata": {
        "id": "-UL0BZE2Bvaf",
        "colab_type": "code",
        "colab": {
          "base_uri": "https://localhost:8080/",
          "height": 297
        },
        "outputId": "905bd1c1-f372-49d9-8e5c-883005f363d2"
      },
      "source": [
        "application_df.describe()"
      ],
      "execution_count": 195,
      "outputs": [
        {
          "output_type": "execute_result",
          "data": {
            "text/html": [
              "<div>\n",
              "<style scoped>\n",
              "    .dataframe tbody tr th:only-of-type {\n",
              "        vertical-align: middle;\n",
              "    }\n",
              "\n",
              "    .dataframe tbody tr th {\n",
              "        vertical-align: top;\n",
              "    }\n",
              "\n",
              "    .dataframe thead th {\n",
              "        text-align: right;\n",
              "    }\n",
              "</style>\n",
              "<table border=\"1\" class=\"dataframe\">\n",
              "  <thead>\n",
              "    <tr style=\"text-align: right;\">\n",
              "      <th></th>\n",
              "      <th>case:RequestedAmount</th>\n",
              "      <th>FirstWithdrawalAmount</th>\n",
              "      <th>NumberOfTerms</th>\n",
              "      <th>MonthlyCost</th>\n",
              "      <th>CreditScore</th>\n",
              "      <th>OfferedAmount</th>\n",
              "    </tr>\n",
              "  </thead>\n",
              "  <tbody>\n",
              "    <tr>\n",
              "      <th>count</th>\n",
              "      <td>1.202267e+06</td>\n",
              "      <td>42995.000000</td>\n",
              "      <td>42995.000000</td>\n",
              "      <td>42995.000000</td>\n",
              "      <td>42995.000000</td>\n",
              "      <td>42995.000000</td>\n",
              "    </tr>\n",
              "    <tr>\n",
              "      <th>mean</th>\n",
              "      <td>1.675947e+04</td>\n",
              "      <td>8394.338979</td>\n",
              "      <td>83.041982</td>\n",
              "      <td>281.403309</td>\n",
              "      <td>318.645912</td>\n",
              "      <td>18513.719940</td>\n",
              "    </tr>\n",
              "    <tr>\n",
              "      <th>std</th>\n",
              "      <td>1.572320e+04</td>\n",
              "      <td>10852.443358</td>\n",
              "      <td>36.386199</td>\n",
              "      <td>192.577735</td>\n",
              "      <td>433.706216</td>\n",
              "      <td>13718.507416</td>\n",
              "    </tr>\n",
              "    <tr>\n",
              "      <th>min</th>\n",
              "      <td>0.000000e+00</td>\n",
              "      <td>0.000000</td>\n",
              "      <td>5.000000</td>\n",
              "      <td>43.050000</td>\n",
              "      <td>0.000000</td>\n",
              "      <td>5000.000000</td>\n",
              "    </tr>\n",
              "    <tr>\n",
              "      <th>25%</th>\n",
              "      <td>6.000000e+03</td>\n",
              "      <td>0.000000</td>\n",
              "      <td>56.000000</td>\n",
              "      <td>152.820000</td>\n",
              "      <td>0.000000</td>\n",
              "      <td>8800.000000</td>\n",
              "    </tr>\n",
              "    <tr>\n",
              "      <th>50%</th>\n",
              "      <td>1.400000e+04</td>\n",
              "      <td>5000.000000</td>\n",
              "      <td>77.000000</td>\n",
              "      <td>244.520000</td>\n",
              "      <td>0.000000</td>\n",
              "      <td>15000.000000</td>\n",
              "    </tr>\n",
              "    <tr>\n",
              "      <th>75%</th>\n",
              "      <td>2.300000e+04</td>\n",
              "      <td>12000.000000</td>\n",
              "      <td>120.000000</td>\n",
              "      <td>350.000000</td>\n",
              "      <td>848.000000</td>\n",
              "      <td>25000.000000</td>\n",
              "    </tr>\n",
              "    <tr>\n",
              "      <th>max</th>\n",
              "      <td>4.500000e+05</td>\n",
              "      <td>75000.000000</td>\n",
              "      <td>180.000000</td>\n",
              "      <td>6673.830000</td>\n",
              "      <td>1145.000000</td>\n",
              "      <td>75000.000000</td>\n",
              "    </tr>\n",
              "  </tbody>\n",
              "</table>\n",
              "</div>"
            ],
            "text/plain": [
              "       case:RequestedAmount  FirstWithdrawalAmount  ...   CreditScore  OfferedAmount\n",
              "count          1.202267e+06           42995.000000  ...  42995.000000   42995.000000\n",
              "mean           1.675947e+04            8394.338979  ...    318.645912   18513.719940\n",
              "std            1.572320e+04           10852.443358  ...    433.706216   13718.507416\n",
              "min            0.000000e+00               0.000000  ...      0.000000    5000.000000\n",
              "25%            6.000000e+03               0.000000  ...      0.000000    8800.000000\n",
              "50%            1.400000e+04            5000.000000  ...      0.000000   15000.000000\n",
              "75%            2.300000e+04           12000.000000  ...    848.000000   25000.000000\n",
              "max            4.500000e+05           75000.000000  ...   1145.000000   75000.000000\n",
              "\n",
              "[8 rows x 6 columns]"
            ]
          },
          "metadata": {
            "tags": []
          },
          "execution_count": 195
        }
      ]
    },
    {
      "cell_type": "code",
      "metadata": {
        "id": "cRDbuNCZB4D_",
        "colab_type": "code",
        "colab": {
          "base_uri": "https://localhost:8080/",
          "height": 374
        },
        "outputId": "883ed240-4652-4636-eef3-35a395dbc362"
      },
      "source": [
        "print(application_df.isnull().sum())\n",
        "application_df.shape"
      ],
      "execution_count": 196,
      "outputs": [
        {
          "output_type": "stream",
          "text": [
            "Action                         0\n",
            "org:resource                   0\n",
            "concept:name                   0\n",
            "EventOrigin                    0\n",
            "EventID                        0\n",
            "lifecycle:transition           0\n",
            "time:timestamp                 0\n",
            "case:LoanGoal                  0\n",
            "case:ApplicationType           0\n",
            "case:concept:name              0\n",
            "case:RequestedAmount           0\n",
            "FirstWithdrawalAmount    1159272\n",
            "NumberOfTerms            1159272\n",
            "Accepted                 1159272\n",
            "MonthlyCost              1159272\n",
            "Selected                 1159272\n",
            "CreditScore              1159272\n",
            "OfferedAmount            1159272\n",
            "OfferID                  1051413\n",
            "dtype: int64\n"
          ],
          "name": "stdout"
        },
        {
          "output_type": "execute_result",
          "data": {
            "text/plain": [
              "(1202267, 19)"
            ]
          },
          "metadata": {
            "tags": []
          },
          "execution_count": 196
        }
      ]
    },
    {
      "cell_type": "markdown",
      "metadata": {
        "id": "lH1rvjKKxkSV",
        "colab_type": "text"
      },
      "source": [
        "**Editing column with the event timestamp**"
      ]
    },
    {
      "cell_type": "code",
      "metadata": {
        "id": "9EuU3DIexrL-",
        "colab_type": "code",
        "colab": {
          "base_uri": "https://localhost:8080/",
          "height": 374
        },
        "outputId": "9e6def9c-2e35-4c67-dc4e-b7a2f4baf2c2"
      },
      "source": [
        "application_df['datetime'] = pd.to_datetime(application_df['time:timestamp'])\n",
        "application_df.dtypes"
      ],
      "execution_count": 197,
      "outputs": [
        {
          "output_type": "execute_result",
          "data": {
            "text/plain": [
              "Action                                object\n",
              "org:resource                          object\n",
              "concept:name                          object\n",
              "EventOrigin                           object\n",
              "EventID                               object\n",
              "lifecycle:transition                  object\n",
              "time:timestamp                        object\n",
              "case:LoanGoal                         object\n",
              "case:ApplicationType                  object\n",
              "case:concept:name                     object\n",
              "case:RequestedAmount                 float64\n",
              "FirstWithdrawalAmount                float64\n",
              "NumberOfTerms                        float64\n",
              "Accepted                              object\n",
              "MonthlyCost                          float64\n",
              "Selected                              object\n",
              "CreditScore                          float64\n",
              "OfferedAmount                        float64\n",
              "OfferID                               object\n",
              "datetime                 datetime64[ns, UTC]\n",
              "dtype: object"
            ]
          },
          "metadata": {
            "tags": []
          },
          "execution_count": 197
        }
      ]
    },
    {
      "cell_type": "markdown",
      "metadata": {
        "id": "tLezTbos51JC",
        "colab_type": "text"
      },
      "source": [
        "**Creating columns with the week of the year**"
      ]
    },
    {
      "cell_type": "code",
      "metadata": {
        "id": "1tcNXF176CLP",
        "colab_type": "code",
        "colab": {
          "base_uri": "https://localhost:8080/",
          "height": 309
        },
        "outputId": "08916d91-8b8a-4b8f-920a-fa858a28bfcc"
      },
      "source": [
        "application_df['week_of_year'] = application_df['datetime'].dt.strftime('%G%V')\n",
        "application_df['week'] = (application_df['datetime'].apply(lambda x: x - timedelta(x.dayofweek))).dt.date\n",
        "application_df.head()"
      ],
      "execution_count": 198,
      "outputs": [
        {
          "output_type": "execute_result",
          "data": {
            "text/html": [
              "<div>\n",
              "<style scoped>\n",
              "    .dataframe tbody tr th:only-of-type {\n",
              "        vertical-align: middle;\n",
              "    }\n",
              "\n",
              "    .dataframe tbody tr th {\n",
              "        vertical-align: top;\n",
              "    }\n",
              "\n",
              "    .dataframe thead th {\n",
              "        text-align: right;\n",
              "    }\n",
              "</style>\n",
              "<table border=\"1\" class=\"dataframe\">\n",
              "  <thead>\n",
              "    <tr style=\"text-align: right;\">\n",
              "      <th></th>\n",
              "      <th>Action</th>\n",
              "      <th>org:resource</th>\n",
              "      <th>concept:name</th>\n",
              "      <th>EventOrigin</th>\n",
              "      <th>EventID</th>\n",
              "      <th>lifecycle:transition</th>\n",
              "      <th>time:timestamp</th>\n",
              "      <th>case:LoanGoal</th>\n",
              "      <th>case:ApplicationType</th>\n",
              "      <th>case:concept:name</th>\n",
              "      <th>case:RequestedAmount</th>\n",
              "      <th>FirstWithdrawalAmount</th>\n",
              "      <th>NumberOfTerms</th>\n",
              "      <th>Accepted</th>\n",
              "      <th>MonthlyCost</th>\n",
              "      <th>Selected</th>\n",
              "      <th>CreditScore</th>\n",
              "      <th>OfferedAmount</th>\n",
              "      <th>OfferID</th>\n",
              "      <th>datetime</th>\n",
              "      <th>week_of_year</th>\n",
              "      <th>week</th>\n",
              "    </tr>\n",
              "  </thead>\n",
              "  <tbody>\n",
              "    <tr>\n",
              "      <th>0</th>\n",
              "      <td>Created</td>\n",
              "      <td>User_1</td>\n",
              "      <td>A_Create Application</td>\n",
              "      <td>Application</td>\n",
              "      <td>Application_652823628</td>\n",
              "      <td>complete</td>\n",
              "      <td>2016-01-01 09:51:15.304000+00:00</td>\n",
              "      <td>Existing loan takeover</td>\n",
              "      <td>New credit</td>\n",
              "      <td>Application_652823628</td>\n",
              "      <td>20000.0</td>\n",
              "      <td>NaN</td>\n",
              "      <td>NaN</td>\n",
              "      <td>NaN</td>\n",
              "      <td>NaN</td>\n",
              "      <td>NaN</td>\n",
              "      <td>NaN</td>\n",
              "      <td>NaN</td>\n",
              "      <td>NaN</td>\n",
              "      <td>2016-01-01 09:51:15.304000+00:00</td>\n",
              "      <td>201553</td>\n",
              "      <td>2015-12-28</td>\n",
              "    </tr>\n",
              "    <tr>\n",
              "      <th>1</th>\n",
              "      <td>statechange</td>\n",
              "      <td>User_1</td>\n",
              "      <td>A_Submitted</td>\n",
              "      <td>Application</td>\n",
              "      <td>ApplState_1582051990</td>\n",
              "      <td>complete</td>\n",
              "      <td>2016-01-01 09:51:15.352000+00:00</td>\n",
              "      <td>Existing loan takeover</td>\n",
              "      <td>New credit</td>\n",
              "      <td>Application_652823628</td>\n",
              "      <td>20000.0</td>\n",
              "      <td>NaN</td>\n",
              "      <td>NaN</td>\n",
              "      <td>NaN</td>\n",
              "      <td>NaN</td>\n",
              "      <td>NaN</td>\n",
              "      <td>NaN</td>\n",
              "      <td>NaN</td>\n",
              "      <td>NaN</td>\n",
              "      <td>2016-01-01 09:51:15.352000+00:00</td>\n",
              "      <td>201553</td>\n",
              "      <td>2015-12-28</td>\n",
              "    </tr>\n",
              "    <tr>\n",
              "      <th>2</th>\n",
              "      <td>Created</td>\n",
              "      <td>User_1</td>\n",
              "      <td>W_Handle leads</td>\n",
              "      <td>Workflow</td>\n",
              "      <td>Workitem_1298499574</td>\n",
              "      <td>schedule</td>\n",
              "      <td>2016-01-01 09:51:15.774000+00:00</td>\n",
              "      <td>Existing loan takeover</td>\n",
              "      <td>New credit</td>\n",
              "      <td>Application_652823628</td>\n",
              "      <td>20000.0</td>\n",
              "      <td>NaN</td>\n",
              "      <td>NaN</td>\n",
              "      <td>NaN</td>\n",
              "      <td>NaN</td>\n",
              "      <td>NaN</td>\n",
              "      <td>NaN</td>\n",
              "      <td>NaN</td>\n",
              "      <td>NaN</td>\n",
              "      <td>2016-01-01 09:51:15.774000+00:00</td>\n",
              "      <td>201553</td>\n",
              "      <td>2015-12-28</td>\n",
              "    </tr>\n",
              "    <tr>\n",
              "      <th>3</th>\n",
              "      <td>Deleted</td>\n",
              "      <td>User_1</td>\n",
              "      <td>W_Handle leads</td>\n",
              "      <td>Workflow</td>\n",
              "      <td>Workitem_1673366067</td>\n",
              "      <td>withdraw</td>\n",
              "      <td>2016-01-01 09:52:36.392000+00:00</td>\n",
              "      <td>Existing loan takeover</td>\n",
              "      <td>New credit</td>\n",
              "      <td>Application_652823628</td>\n",
              "      <td>20000.0</td>\n",
              "      <td>NaN</td>\n",
              "      <td>NaN</td>\n",
              "      <td>NaN</td>\n",
              "      <td>NaN</td>\n",
              "      <td>NaN</td>\n",
              "      <td>NaN</td>\n",
              "      <td>NaN</td>\n",
              "      <td>NaN</td>\n",
              "      <td>2016-01-01 09:52:36.392000+00:00</td>\n",
              "      <td>201553</td>\n",
              "      <td>2015-12-28</td>\n",
              "    </tr>\n",
              "    <tr>\n",
              "      <th>4</th>\n",
              "      <td>Created</td>\n",
              "      <td>User_1</td>\n",
              "      <td>W_Complete application</td>\n",
              "      <td>Workflow</td>\n",
              "      <td>Workitem_1493664571</td>\n",
              "      <td>schedule</td>\n",
              "      <td>2016-01-01 09:52:36.403000+00:00</td>\n",
              "      <td>Existing loan takeover</td>\n",
              "      <td>New credit</td>\n",
              "      <td>Application_652823628</td>\n",
              "      <td>20000.0</td>\n",
              "      <td>NaN</td>\n",
              "      <td>NaN</td>\n",
              "      <td>NaN</td>\n",
              "      <td>NaN</td>\n",
              "      <td>NaN</td>\n",
              "      <td>NaN</td>\n",
              "      <td>NaN</td>\n",
              "      <td>NaN</td>\n",
              "      <td>2016-01-01 09:52:36.403000+00:00</td>\n",
              "      <td>201553</td>\n",
              "      <td>2015-12-28</td>\n",
              "    </tr>\n",
              "  </tbody>\n",
              "</table>\n",
              "</div>"
            ],
            "text/plain": [
              "        Action org:resource  ... week_of_year        week\n",
              "0      Created       User_1  ...       201553  2015-12-28\n",
              "1  statechange       User_1  ...       201553  2015-12-28\n",
              "2      Created       User_1  ...       201553  2015-12-28\n",
              "3      Deleted       User_1  ...       201553  2015-12-28\n",
              "4      Created       User_1  ...       201553  2015-12-28\n",
              "\n",
              "[5 rows x 22 columns]"
            ]
          },
          "metadata": {
            "tags": []
          },
          "execution_count": 198
        }
      ]
    },
    {
      "cell_type": "markdown",
      "metadata": {
        "id": "NkbZi491ra2P",
        "colab_type": "text"
      },
      "source": [
        "**What's the number of events in the applications per month in 2016?**"
      ]
    },
    {
      "cell_type": "code",
      "metadata": {
        "id": "CpCuDPb_CEQR",
        "colab_type": "code",
        "colab": {
          "base_uri": "https://localhost:8080/",
          "height": 568
        },
        "outputId": "6701af95-bc55-4c3f-af9f-4a78cd943a4c"
      },
      "source": [
        "copy_df = application_df[application_df['datetime'].dt.year == 2016]\n",
        "\n",
        "plt.figure(figsize=(14.7, 9))\n",
        "chart = copy_df.groupby(copy_df['datetime'].dt.month)['datetime'].count().plot(kind='line')\n",
        "chart.set(xlabel='Month', ylabel='events', title='Number of events per month in 2016')\n",
        "\n",
        "months = [calendar.month_abbr[i] for i in range(1, 13)]\n",
        "\n",
        "plt.xticks(np.arange(1, 13, 1.0), labels=months)\n",
        "plt.show()\n"
      ],
      "execution_count": 199,
      "outputs": [
        {
          "output_type": "display_data",
          "data": {
            "image/png": "[encoded data removed]",
            "text/plain": [
              "<Figure size 1058.4x648 with 1 Axes>"
            ]
          },
          "metadata": {
            "tags": [],
            "needs_background": "light"
          }
        }
      ]
    },
    {
      "cell_type": "markdown",
      "metadata": {
        "id": "aL2W-Ez_B7Zh",
        "colab_type": "text"
      },
      "source": [
        "During 2016, July was the month with the higher number of events in comparision to the other months of the same year.\n",
        "\n",
        " We can also observe that there is a trend in the increase of number of events starting in January and ending in March, and another increase in the number of events starting in April and reaching the higher number of events during the entire year in July."
      ]
    },
    {
      "cell_type": "markdown",
      "metadata": {
        "id": "JJZYREy0wYxt",
        "colab_type": "text"
      },
      "source": [
        "**What's the number of successfull of applications in each month?**"
      ]
    },
    {
      "cell_type": "code",
      "metadata": {
        "id": "gMxcsqejt7BQ",
        "colab_type": "code",
        "colab": {
          "base_uri": "https://localhost:8080/",
          "height": 568
        },
        "outputId": "09d87874-dbe1-4a5e-f420-432189a63894"
      },
      "source": [
        "copy_df = application_df[(application_df['concept:name'] == 'A_Pending')\n",
        " & (application_df['datetime'].dt.year == 2016)]\n",
        "\n",
        "plt.figure(figsize=(15, 9))\n",
        "chart = copy_df.groupby(copy_df['datetime'].dt.month)['concept:name'].count().plot(kind='line')\n",
        "chart.set(xlabel='Month', ylabel='Applications', title='Number of successfull applications in 2016')\n",
        "\n",
        "plt.xticks(np.arange(1, 13, 1.0), labels=months)\n",
        "plt.show()"
      ],
      "execution_count": 200,
      "outputs": [
        {
          "output_type": "display_data",
          "data": {
            "image/png": "[encoded data removed]",
            "text/plain": [
              "<Figure size 1080x648 with 1 Axes>"
            ]
          },
          "metadata": {
            "tags": [],
            "needs_background": "light"
          }
        }
      ]
    },
    {
      "cell_type": "markdown",
      "metadata": {
        "id": "di4IxpwMCnxn",
        "colab_type": "text"
      },
      "source": [
        "It's expected that tha month that has the higher number of events is also the month with more successfull applications.\n",
        "\n",
        "An interesting point is that in Octber there also a high number of successfull applications, very similar to tu number observed in July."
      ]
    },
    {
      "cell_type": "markdown",
      "metadata": {
        "id": "6RPjYoWXGApN",
        "colab_type": "text"
      },
      "source": [
        "**What are the top 5 most actives week in the applications?**"
      ]
    },
    {
      "cell_type": "code",
      "metadata": {
        "id": "eg95wpOcuDPE",
        "colab_type": "code",
        "colab": {
          "base_uri": "https://localhost:8080/",
          "height": 568
        },
        "outputId": "091190c5-5c18-40be-83d0-f00d7c041172"
      },
      "source": [
        "plt.figure(figsize=(15, 9))\n",
        "\n",
        "most_actives_weeks = application_df['week'].value_counts().head(5).reset_index()\n",
        "most_actives_weeks.rename(columns={'index': 'week', 'week':'num_of_events'}, inplace=True)\n",
        "\n",
        "chart = sns.barplot(data = most_actives_weeks, x ='week', y= 'num_of_events', palette = \"Blues\");\n",
        "chart.set(xlabel = 'Week of Year', ylabel ='Num. Of Events', title='Top 5 most active weeks of the year')\n",
        "\n",
        "plt.show()"
      ],
      "execution_count": 201,
      "outputs": [
        {
          "output_type": "display_data",
          "data": {
            "image/png": "[encoded data removed]",
            "text/plain": [
              "<Figure size 1080x648 with 1 Axes>"
            ]
          },
          "metadata": {
            "tags": [],
            "needs_background": "light"
          }
        }
      ]
    },
    {
      "cell_type": "markdown",
      "metadata": {
        "id": "7-b6ag3tC-sw",
        "colab_type": "text"
      },
      "source": [
        "The top two weeks with more activities were the first two weeks of July, followed by the first week of October than the second and third weeks of September."
      ]
    },
    {
      "cell_type": "markdown",
      "metadata": {
        "id": "1Z_LE5-ANmZi",
        "colab_type": "text"
      },
      "source": [
        "# Predictive Analysis"
      ]
    },
    {
      "cell_type": "markdown",
      "metadata": {
        "id": "e7aTRf5MNtnl",
        "colab_type": "text"
      },
      "source": [
        "###Feature Creation"
      ]
    },
    {
      "cell_type": "markdown",
      "metadata": {
        "id": "KCRTX5cH9kdx",
        "colab_type": "text"
      },
      "source": [
        "**Getting the applications start date**"
      ]
    },
    {
      "cell_type": "code",
      "metadata": {
        "id": "ysm3NthLNsBa",
        "colab_type": "code",
        "colab": {
          "base_uri": "https://localhost:8080/",
          "height": 204
        },
        "outputId": "a930713a-3477-400f-f7e5-a06e2f501fc0"
      },
      "source": [
        "apps_start_date = application_df[(application_df['concept:name'] == 'A_Create Application')].filter([\n",
        "    'case:concept:name', 'datetime', 'week'])\n",
        "\n",
        "apps_start_date.rename(columns={'datetime': 'start_date', 'week': 'start_week'}, inplace=True)\n",
        "apps_start_date.head()"
      ],
      "execution_count": 202,
      "outputs": [
        {
          "output_type": "execute_result",
          "data": {
            "text/html": [
              "<div>\n",
              "<style scoped>\n",
              "    .dataframe tbody tr th:only-of-type {\n",
              "        vertical-align: middle;\n",
              "    }\n",
              "\n",
              "    .dataframe tbody tr th {\n",
              "        vertical-align: top;\n",
              "    }\n",
              "\n",
              "    .dataframe thead th {\n",
              "        text-align: right;\n",
              "    }\n",
              "</style>\n",
              "<table border=\"1\" class=\"dataframe\">\n",
              "  <thead>\n",
              "    <tr style=\"text-align: right;\">\n",
              "      <th></th>\n",
              "      <th>case:concept:name</th>\n",
              "      <th>start_date</th>\n",
              "      <th>start_week</th>\n",
              "    </tr>\n",
              "  </thead>\n",
              "  <tbody>\n",
              "    <tr>\n",
              "      <th>0</th>\n",
              "      <td>Application_652823628</td>\n",
              "      <td>2016-01-01 09:51:15.304000+00:00</td>\n",
              "      <td>2015-12-28</td>\n",
              "    </tr>\n",
              "    <tr>\n",
              "      <th>40</th>\n",
              "      <td>Application_1691306052</td>\n",
              "      <td>2016-01-01 10:16:11.500000+00:00</td>\n",
              "      <td>2015-12-28</td>\n",
              "    </tr>\n",
              "    <tr>\n",
              "      <th>71</th>\n",
              "      <td>Application_428409768</td>\n",
              "      <td>2016-01-01 11:19:38.177000+00:00</td>\n",
              "      <td>2015-12-28</td>\n",
              "    </tr>\n",
              "    <tr>\n",
              "      <th>116</th>\n",
              "      <td>Application_1746793196</td>\n",
              "      <td>2016-01-01 12:34:53.911000+00:00</td>\n",
              "      <td>2015-12-28</td>\n",
              "    </tr>\n",
              "    <tr>\n",
              "      <th>200</th>\n",
              "      <td>Application_828200680</td>\n",
              "      <td>2016-01-01 13:00:04.360000+00:00</td>\n",
              "      <td>2015-12-28</td>\n",
              "    </tr>\n",
              "  </tbody>\n",
              "</table>\n",
              "</div>"
            ],
            "text/plain": [
              "          case:concept:name                       start_date  start_week\n",
              "0     Application_652823628 2016-01-01 09:51:15.304000+00:00  2015-12-28\n",
              "40   Application_1691306052 2016-01-01 10:16:11.500000+00:00  2015-12-28\n",
              "71    Application_428409768 2016-01-01 11:19:38.177000+00:00  2015-12-28\n",
              "116  Application_1746793196 2016-01-01 12:34:53.911000+00:00  2015-12-28\n",
              "200   Application_828200680 2016-01-01 13:00:04.360000+00:00  2015-12-28"
            ]
          },
          "metadata": {
            "tags": []
          },
          "execution_count": 202
        }
      ]
    },
    {
      "cell_type": "markdown",
      "metadata": {
        "id": "QaShzGZhBxvS",
        "colab_type": "text"
      },
      "source": [
        "**Getting the applications end date**"
      ]
    },
    {
      "cell_type": "code",
      "metadata": {
        "id": "LwlQrJ_O8wv_",
        "colab_type": "code",
        "colab": {
          "base_uri": "https://localhost:8080/",
          "height": 204
        },
        "outputId": "7e8fb75e-5c7f-488c-be30-88620e892e45"
      },
      "source": [
        "apps_final_states = ['A_Pending', 'A_Cancelled', 'A_Denied']\n",
        "apps_end_date = application_df[(application_df['concept:name'].isin(\n",
        "    apps_final_states))].filter(['case:concept:name', 'datetime', 'week'])\n",
        "\n",
        "apps_end_date.rename(columns={'datetime': 'end_date', 'week': 'end_week'}, inplace=True)\n",
        "apps_end_date.drop_duplicates(subset='case:concept:name', inplace=True)\n",
        "apps_end_date.head()"
      ],
      "execution_count": 203,
      "outputs": [
        {
          "output_type": "execute_result",
          "data": {
            "text/html": [
              "<div>\n",
              "<style scoped>\n",
              "    .dataframe tbody tr th:only-of-type {\n",
              "        vertical-align: middle;\n",
              "    }\n",
              "\n",
              "    .dataframe tbody tr th {\n",
              "        vertical-align: top;\n",
              "    }\n",
              "\n",
              "    .dataframe thead th {\n",
              "        text-align: right;\n",
              "    }\n",
              "</style>\n",
              "<table border=\"1\" class=\"dataframe\">\n",
              "  <thead>\n",
              "    <tr style=\"text-align: right;\">\n",
              "      <th></th>\n",
              "      <th>case:concept:name</th>\n",
              "      <th>end_date</th>\n",
              "      <th>end_week</th>\n",
              "    </tr>\n",
              "  </thead>\n",
              "  <tbody>\n",
              "    <tr>\n",
              "      <th>38</th>\n",
              "      <td>Application_652823628</td>\n",
              "      <td>2016-01-14 15:49:11.420000+00:00</td>\n",
              "      <td>2016-01-11</td>\n",
              "    </tr>\n",
              "    <tr>\n",
              "      <th>68</th>\n",
              "      <td>Application_1691306052</td>\n",
              "      <td>2016-01-07 13:29:49.671000+00:00</td>\n",
              "      <td>2016-01-04</td>\n",
              "    </tr>\n",
              "    <tr>\n",
              "      <th>114</th>\n",
              "      <td>Application_428409768</td>\n",
              "      <td>2016-01-14 07:00:14.450000+00:00</td>\n",
              "      <td>2016-01-11</td>\n",
              "    </tr>\n",
              "    <tr>\n",
              "      <th>197</th>\n",
              "      <td>Application_1746793196</td>\n",
              "      <td>2016-01-28 12:18:51.292000+00:00</td>\n",
              "      <td>2016-01-25</td>\n",
              "    </tr>\n",
              "    <tr>\n",
              "      <th>218</th>\n",
              "      <td>Application_828200680</td>\n",
              "      <td>2016-02-02 07:00:20.734000+00:00</td>\n",
              "      <td>2016-02-01</td>\n",
              "    </tr>\n",
              "  </tbody>\n",
              "</table>\n",
              "</div>"
            ],
            "text/plain": [
              "          case:concept:name                         end_date    end_week\n",
              "38    Application_652823628 2016-01-14 15:49:11.420000+00:00  2016-01-11\n",
              "68   Application_1691306052 2016-01-07 13:29:49.671000+00:00  2016-01-04\n",
              "114   Application_428409768 2016-01-14 07:00:14.450000+00:00  2016-01-11\n",
              "197  Application_1746793196 2016-01-28 12:18:51.292000+00:00  2016-01-25\n",
              "218   Application_828200680 2016-02-02 07:00:20.734000+00:00  2016-02-01"
            ]
          },
          "metadata": {
            "tags": []
          },
          "execution_count": 203
        }
      ]
    },
    {
      "cell_type": "markdown",
      "metadata": {
        "id": "mV8j2__rPQ10",
        "colab_type": "text"
      },
      "source": [
        "**Merging the start date and end date DataFrames**"
      ]
    },
    {
      "cell_type": "code",
      "metadata": {
        "id": "R6zgIUHC-ZRN",
        "colab_type": "code",
        "colab": {
          "base_uri": "https://localhost:8080/",
          "height": 204
        },
        "outputId": "48b0159d-0c5e-4487-ba41-02edb10056f5"
      },
      "source": [
        "apps_df = pd.merge(apps_start_date, apps_end_date, how='inner')\n",
        "apps_df['duration'] = (apps_df['end_date'] - apps_df['start_date']).dt.days\n",
        "\n",
        "apps_df.head()"
      ],
      "execution_count": 204,
      "outputs": [
        {
          "output_type": "execute_result",
          "data": {
            "text/html": [
              "<div>\n",
              "<style scoped>\n",
              "    .dataframe tbody tr th:only-of-type {\n",
              "        vertical-align: middle;\n",
              "    }\n",
              "\n",
              "    .dataframe tbody tr th {\n",
              "        vertical-align: top;\n",
              "    }\n",
              "\n",
              "    .dataframe thead th {\n",
              "        text-align: right;\n",
              "    }\n",
              "</style>\n",
              "<table border=\"1\" class=\"dataframe\">\n",
              "  <thead>\n",
              "    <tr style=\"text-align: right;\">\n",
              "      <th></th>\n",
              "      <th>case:concept:name</th>\n",
              "      <th>start_date</th>\n",
              "      <th>start_week</th>\n",
              "      <th>end_date</th>\n",
              "      <th>end_week</th>\n",
              "      <th>duration</th>\n",
              "    </tr>\n",
              "  </thead>\n",
              "  <tbody>\n",
              "    <tr>\n",
              "      <th>0</th>\n",
              "      <td>Application_652823628</td>\n",
              "      <td>2016-01-01 09:51:15.304000+00:00</td>\n",
              "      <td>2015-12-28</td>\n",
              "      <td>2016-01-14 15:49:11.420000+00:00</td>\n",
              "      <td>2016-01-11</td>\n",
              "      <td>13</td>\n",
              "    </tr>\n",
              "    <tr>\n",
              "      <th>1</th>\n",
              "      <td>Application_1691306052</td>\n",
              "      <td>2016-01-01 10:16:11.500000+00:00</td>\n",
              "      <td>2015-12-28</td>\n",
              "      <td>2016-01-07 13:29:49.671000+00:00</td>\n",
              "      <td>2016-01-04</td>\n",
              "      <td>6</td>\n",
              "    </tr>\n",
              "    <tr>\n",
              "      <th>2</th>\n",
              "      <td>Application_428409768</td>\n",
              "      <td>2016-01-01 11:19:38.177000+00:00</td>\n",
              "      <td>2015-12-28</td>\n",
              "      <td>2016-01-14 07:00:14.450000+00:00</td>\n",
              "      <td>2016-01-11</td>\n",
              "      <td>12</td>\n",
              "    </tr>\n",
              "    <tr>\n",
              "      <th>3</th>\n",
              "      <td>Application_1746793196</td>\n",
              "      <td>2016-01-01 12:34:53.911000+00:00</td>\n",
              "      <td>2015-12-28</td>\n",
              "      <td>2016-01-28 12:18:51.292000+00:00</td>\n",
              "      <td>2016-01-25</td>\n",
              "      <td>26</td>\n",
              "    </tr>\n",
              "    <tr>\n",
              "      <th>4</th>\n",
              "      <td>Application_828200680</td>\n",
              "      <td>2016-01-01 13:00:04.360000+00:00</td>\n",
              "      <td>2015-12-28</td>\n",
              "      <td>2016-02-02 07:00:20.734000+00:00</td>\n",
              "      <td>2016-02-01</td>\n",
              "      <td>31</td>\n",
              "    </tr>\n",
              "  </tbody>\n",
              "</table>\n",
              "</div>"
            ],
            "text/plain": [
              "        case:concept:name  ... duration\n",
              "0   Application_652823628  ...       13\n",
              "1  Application_1691306052  ...        6\n",
              "2   Application_428409768  ...       12\n",
              "3  Application_1746793196  ...       26\n",
              "4   Application_828200680  ...       31\n",
              "\n",
              "[5 rows x 6 columns]"
            ]
          },
          "metadata": {
            "tags": []
          },
          "execution_count": 204
        }
      ]
    },
    {
      "cell_type": "markdown",
      "metadata": {
        "id": "F9ywsR9BKUlY",
        "colab_type": "text"
      },
      "source": [
        "**Checking the application's duration distribution**"
      ]
    },
    {
      "cell_type": "code",
      "metadata": {
        "id": "UbUvrNxEKdNA",
        "colab_type": "code",
        "colab": {
          "base_uri": "https://localhost:8080/",
          "height": 297
        },
        "outputId": "8497b1ec-453d-4f5a-bf2c-e52196ae5bbc"
      },
      "source": [
        "apps_df.describe()"
      ],
      "execution_count": 205,
      "outputs": [
        {
          "output_type": "execute_result",
          "data": {
            "text/html": [
              "<div>\n",
              "<style scoped>\n",
              "    .dataframe tbody tr th:only-of-type {\n",
              "        vertical-align: middle;\n",
              "    }\n",
              "\n",
              "    .dataframe tbody tr th {\n",
              "        vertical-align: top;\n",
              "    }\n",
              "\n",
              "    .dataframe thead th {\n",
              "        text-align: right;\n",
              "    }\n",
              "</style>\n",
              "<table border=\"1\" class=\"dataframe\">\n",
              "  <thead>\n",
              "    <tr style=\"text-align: right;\">\n",
              "      <th></th>\n",
              "      <th>duration</th>\n",
              "    </tr>\n",
              "  </thead>\n",
              "  <tbody>\n",
              "    <tr>\n",
              "      <th>count</th>\n",
              "      <td>31411.000000</td>\n",
              "    </tr>\n",
              "    <tr>\n",
              "      <th>mean</th>\n",
              "      <td>21.255452</td>\n",
              "    </tr>\n",
              "    <tr>\n",
              "      <th>std</th>\n",
              "      <td>12.897043</td>\n",
              "    </tr>\n",
              "    <tr>\n",
              "      <th>min</th>\n",
              "      <td>0.000000</td>\n",
              "    </tr>\n",
              "    <tr>\n",
              "      <th>25%</th>\n",
              "      <td>11.000000</td>\n",
              "    </tr>\n",
              "    <tr>\n",
              "      <th>50%</th>\n",
              "      <td>19.000000</td>\n",
              "    </tr>\n",
              "    <tr>\n",
              "      <th>75%</th>\n",
              "      <td>31.000000</td>\n",
              "    </tr>\n",
              "    <tr>\n",
              "      <th>max</th>\n",
              "      <td>169.000000</td>\n",
              "    </tr>\n",
              "  </tbody>\n",
              "</table>\n",
              "</div>"
            ],
            "text/plain": [
              "           duration\n",
              "count  31411.000000\n",
              "mean      21.255452\n",
              "std       12.897043\n",
              "min        0.000000\n",
              "25%       11.000000\n",
              "50%       19.000000\n",
              "75%       31.000000\n",
              "max      169.000000"
            ]
          },
          "metadata": {
            "tags": []
          },
          "execution_count": 205
        }
      ]
    },
    {
      "cell_type": "code",
      "metadata": {
        "id": "EzRysPPJB6LC",
        "colab_type": "code",
        "colab": {
          "base_uri": "https://localhost:8080/",
          "height": 568
        },
        "outputId": "a5f27dd0-fe39-41bb-f9b8-403e2dfcb39f"
      },
      "source": [
        "plt.figure(figsize=(15, 9))\n",
        "\n",
        "ax = sns.distplot(apps_df['duration'])\n",
        "ax.set(xlabel='durantion (days)', title='Distribution of applications duration')\n",
        "\n",
        "plt.show()"
      ],
      "execution_count": 206,
      "outputs": [
        {
          "output_type": "display_data",
          "data": {
            "image/png": "[encoded data removed]",
            "text/plain": [
              "<Figure size 1080x648 with 1 Axes>"
            ]
          },
          "metadata": {
            "tags": [],
            "needs_background": "light"
          }
        }
      ]
    },
    {
      "cell_type": "markdown",
      "metadata": {
        "id": "JtbhMRNzVaCn",
        "colab_type": "text"
      },
      "source": [
        "**Adding \"has finished this week\" column**"
      ]
    },
    {
      "cell_type": "code",
      "metadata": {
        "id": "qwiPk75yA-74",
        "colab_type": "code",
        "colab": {}
      },
      "source": [
        "apps_end_week = apps_df[['case:concept:name', 'end_week']]\n",
        "\n",
        "application_df = pd.merge(application_df, apps_end_week, on=['case:concept:name'])\n",
        "application_df['finished_this_week'] = application_df['week'] == application_df['end_week'] "
      ],
      "execution_count": 207,
      "outputs": []
    },
    {
      "cell_type": "markdown",
      "metadata": {
        "id": "jrSPGRi_amYI",
        "colab_type": "text"
      },
      "source": [
        "**Adding \"quarter\" column**"
      ]
    },
    {
      "cell_type": "code",
      "metadata": {
        "id": "ifTt6fyeanl4",
        "colab_type": "code",
        "colab": {}
      },
      "source": [
        "application_df['quarter'] = application_df['datetime'].dt.quarter"
      ],
      "execution_count": 208,
      "outputs": []
    },
    {
      "cell_type": "code",
      "metadata": {
        "id": "Td_jUKnKz1P7",
        "colab_type": "code",
        "colab": {
          "base_uri": "https://localhost:8080/",
          "height": 564
        },
        "outputId": "c84ccf95-c880-4384-bfcf-b01a64f937a0"
      },
      "source": [
        "plt.figure(figsize=(14.35, 9))\n",
        "chart = application_df['quarter'].value_counts().plot(kind='bar')\n",
        "chart.set(xlabel='Quarter', ylabel='Frequency', title='Frequency of quarters')\n",
        "\n",
        "plt.show()"
      ],
      "execution_count": 209,
      "outputs": [
        {
          "output_type": "display_data",
          "data": {
            "image/png": "[encoded data removed]",
            "text/plain": [
              "<Figure size 1033.2x648 with 1 Axes>"
            ]
          },
          "metadata": {
            "tags": [],
            "needs_background": "light"
          }
        }
      ]
    },
    {
      "cell_type": "markdown",
      "metadata": {
        "id": "4z52dz_uVl9T",
        "colab_type": "text"
      },
      "source": [
        "**Checking the events of a specific application**"
      ]
    },
    {
      "cell_type": "code",
      "metadata": {
        "id": "jZq3-zI6Vsci",
        "colab_type": "code",
        "colab": {
          "base_uri": "https://localhost:8080/",
          "height": 1000
        },
        "outputId": "c79283a8-38ce-4876-cd83-027563a64525"
      },
      "source": [
        "application_df[application_df['case:concept:name'] == 'Application_652823628']"
      ],
      "execution_count": 210,
      "outputs": [
        {
          "output_type": "execute_result",
          "data": {
            "text/html": [
              "<div>\n",
              "<style scoped>\n",
              "    .dataframe tbody tr th:only-of-type {\n",
              "        vertical-align: middle;\n",
              "    }\n",
              "\n",
              "    .dataframe tbody tr th {\n",
              "        vertical-align: top;\n",
              "    }\n",
              "\n",
              "    .dataframe thead th {\n",
              "        text-align: right;\n",
              "    }\n",
              "</style>\n",
              "<table border=\"1\" class=\"dataframe\">\n",
              "  <thead>\n",
              "    <tr style=\"text-align: right;\">\n",
              "      <th></th>\n",
              "      <th>Action</th>\n",
              "      <th>org:resource</th>\n",
              "      <th>concept:name</th>\n",
              "      <th>EventOrigin</th>\n",
              "      <th>EventID</th>\n",
              "      <th>lifecycle:transition</th>\n",
              "      <th>time:timestamp</th>\n",
              "      <th>case:LoanGoal</th>\n",
              "      <th>case:ApplicationType</th>\n",
              "      <th>case:concept:name</th>\n",
              "      <th>case:RequestedAmount</th>\n",
              "      <th>FirstWithdrawalAmount</th>\n",
              "      <th>NumberOfTerms</th>\n",
              "      <th>Accepted</th>\n",
              "      <th>MonthlyCost</th>\n",
              "      <th>Selected</th>\n",
              "      <th>CreditScore</th>\n",
              "      <th>OfferedAmount</th>\n",
              "      <th>OfferID</th>\n",
              "      <th>datetime</th>\n",
              "      <th>week_of_year</th>\n",
              "      <th>week</th>\n",
              "      <th>end_week</th>\n",
              "      <th>finished_this_week</th>\n",
              "      <th>quarter</th>\n",
              "    </tr>\n",
              "  </thead>\n",
              "  <tbody>\n",
              "    <tr>\n",
              "      <th>0</th>\n",
              "      <td>Created</td>\n",
              "      <td>User_1</td>\n",
              "      <td>A_Create Application</td>\n",
              "      <td>Application</td>\n",
              "      <td>Application_652823628</td>\n",
              "      <td>complete</td>\n",
              "      <td>2016-01-01 09:51:15.304000+00:00</td>\n",
              "      <td>Existing loan takeover</td>\n",
              "      <td>New credit</td>\n",
              "      <td>Application_652823628</td>\n",
              "      <td>20000.0</td>\n",
              "      <td>NaN</td>\n",
              "      <td>NaN</td>\n",
              "      <td>NaN</td>\n",
              "      <td>NaN</td>\n",
              "      <td>NaN</td>\n",
              "      <td>NaN</td>\n",
              "      <td>NaN</td>\n",
              "      <td>NaN</td>\n",
              "      <td>2016-01-01 09:51:15.304000+00:00</td>\n",
              "      <td>201553</td>\n",
              "      <td>2015-12-28</td>\n",
              "      <td>2016-01-11</td>\n",
              "      <td>False</td>\n",
              "      <td>1</td>\n",
              "    </tr>\n",
              "    <tr>\n",
              "      <th>1</th>\n",
              "      <td>statechange</td>\n",
              "      <td>User_1</td>\n",
              "      <td>A_Submitted</td>\n",
              "      <td>Application</td>\n",
              "      <td>ApplState_1582051990</td>\n",
              "      <td>complete</td>\n",
              "      <td>2016-01-01 09:51:15.352000+00:00</td>\n",
              "      <td>Existing loan takeover</td>\n",
              "      <td>New credit</td>\n",
              "      <td>Application_652823628</td>\n",
              "      <td>20000.0</td>\n",
              "      <td>NaN</td>\n",
              "      <td>NaN</td>\n",
              "      <td>NaN</td>\n",
              "      <td>NaN</td>\n",
              "      <td>NaN</td>\n",
              "      <td>NaN</td>\n",
              "      <td>NaN</td>\n",
              "      <td>NaN</td>\n",
              "      <td>2016-01-01 09:51:15.352000+00:00</td>\n",
              "      <td>201553</td>\n",
              "      <td>2015-12-28</td>\n",
              "      <td>2016-01-11</td>\n",
              "      <td>False</td>\n",
              "      <td>1</td>\n",
              "    </tr>\n",
              "    <tr>\n",
              "      <th>2</th>\n",
              "      <td>Created</td>\n",
              "      <td>User_1</td>\n",
              "      <td>W_Handle leads</td>\n",
              "      <td>Workflow</td>\n",
              "      <td>Workitem_1298499574</td>\n",
              "      <td>schedule</td>\n",
              "      <td>2016-01-01 09:51:15.774000+00:00</td>\n",
              "      <td>Existing loan takeover</td>\n",
              "      <td>New credit</td>\n",
              "      <td>Application_652823628</td>\n",
              "      <td>20000.0</td>\n",
              "      <td>NaN</td>\n",
              "      <td>NaN</td>\n",
              "      <td>NaN</td>\n",
              "      <td>NaN</td>\n",
              "      <td>NaN</td>\n",
              "      <td>NaN</td>\n",
              "      <td>NaN</td>\n",
              "      <td>NaN</td>\n",
              "      <td>2016-01-01 09:51:15.774000+00:00</td>\n",
              "      <td>201553</td>\n",
              "      <td>2015-12-28</td>\n",
              "      <td>2016-01-11</td>\n",
              "      <td>False</td>\n",
              "      <td>1</td>\n",
              "    </tr>\n",
              "    <tr>\n",
              "      <th>3</th>\n",
              "      <td>Deleted</td>\n",
              "      <td>User_1</td>\n",
              "      <td>W_Handle leads</td>\n",
              "      <td>Workflow</td>\n",
              "      <td>Workitem_1673366067</td>\n",
              "      <td>withdraw</td>\n",
              "      <td>2016-01-01 09:52:36.392000+00:00</td>\n",
              "      <td>Existing loan takeover</td>\n",
              "      <td>New credit</td>\n",
              "      <td>Application_652823628</td>\n",
              "      <td>20000.0</td>\n",
              "      <td>NaN</td>\n",
              "      <td>NaN</td>\n",
              "      <td>NaN</td>\n",
              "      <td>NaN</td>\n",
              "      <td>NaN</td>\n",
              "      <td>NaN</td>\n",
              "      <td>NaN</td>\n",
              "      <td>NaN</td>\n",
              "      <td>2016-01-01 09:52:36.392000+00:00</td>\n",
              "      <td>201553</td>\n",
              "      <td>2015-12-28</td>\n",
              "      <td>2016-01-11</td>\n",
              "      <td>False</td>\n",
              "      <td>1</td>\n",
              "    </tr>\n",
              "    <tr>\n",
              "      <th>4</th>\n",
              "      <td>Created</td>\n",
              "      <td>User_1</td>\n",
              "      <td>W_Complete application</td>\n",
              "      <td>Workflow</td>\n",
              "      <td>Workitem_1493664571</td>\n",
              "      <td>schedule</td>\n",
              "      <td>2016-01-01 09:52:36.403000+00:00</td>\n",
              "      <td>Existing loan takeover</td>\n",
              "      <td>New credit</td>\n",
              "      <td>Application_652823628</td>\n",
              "      <td>20000.0</td>\n",
              "      <td>NaN</td>\n",
              "      <td>NaN</td>\n",
              "      <td>NaN</td>\n",
              "      <td>NaN</td>\n",
              "      <td>NaN</td>\n",
              "      <td>NaN</td>\n",
              "      <td>NaN</td>\n",
              "      <td>NaN</td>\n",
              "      <td>2016-01-01 09:52:36.403000+00:00</td>\n",
              "      <td>201553</td>\n",
              "      <td>2015-12-28</td>\n",
              "      <td>2016-01-11</td>\n",
              "      <td>False</td>\n",
              "      <td>1</td>\n",
              "    </tr>\n",
              "    <tr>\n",
              "      <th>5</th>\n",
              "      <td>statechange</td>\n",
              "      <td>User_1</td>\n",
              "      <td>A_Concept</td>\n",
              "      <td>Application</td>\n",
              "      <td>ApplState_642383566</td>\n",
              "      <td>complete</td>\n",
              "      <td>2016-01-01 09:52:36.413000+00:00</td>\n",
              "      <td>Existing loan takeover</td>\n",
              "      <td>New credit</td>\n",
              "      <td>Application_652823628</td>\n",
              "      <td>20000.0</td>\n",
              "      <td>NaN</td>\n",
              "      <td>NaN</td>\n",
              "      <td>NaN</td>\n",
              "      <td>NaN</td>\n",
              "      <td>NaN</td>\n",
              "      <td>NaN</td>\n",
              "      <td>NaN</td>\n",
              "      <td>NaN</td>\n",
              "      <td>2016-01-01 09:52:36.413000+00:00</td>\n",
              "      <td>201553</td>\n",
              "      <td>2015-12-28</td>\n",
              "      <td>2016-01-11</td>\n",
              "      <td>False</td>\n",
              "      <td>1</td>\n",
              "    </tr>\n",
              "    <tr>\n",
              "      <th>6</th>\n",
              "      <td>Obtained</td>\n",
              "      <td>User_17</td>\n",
              "      <td>W_Complete application</td>\n",
              "      <td>Workflow</td>\n",
              "      <td>Workitem_1875340971</td>\n",
              "      <td>start</td>\n",
              "      <td>2016-01-02 10:45:22.429000+00:00</td>\n",
              "      <td>Existing loan takeover</td>\n",
              "      <td>New credit</td>\n",
              "      <td>Application_652823628</td>\n",
              "      <td>20000.0</td>\n",
              "      <td>NaN</td>\n",
              "      <td>NaN</td>\n",
              "      <td>NaN</td>\n",
              "      <td>NaN</td>\n",
              "      <td>NaN</td>\n",
              "      <td>NaN</td>\n",
              "      <td>NaN</td>\n",
              "      <td>NaN</td>\n",
              "      <td>2016-01-02 10:45:22.429000+00:00</td>\n",
              "      <td>201553</td>\n",
              "      <td>2015-12-28</td>\n",
              "      <td>2016-01-11</td>\n",
              "      <td>False</td>\n",
              "      <td>1</td>\n",
              "    </tr>\n",
              "    <tr>\n",
              "      <th>7</th>\n",
              "      <td>Released</td>\n",
              "      <td>User_17</td>\n",
              "      <td>W_Complete application</td>\n",
              "      <td>Workflow</td>\n",
              "      <td>Workitem_1452291795</td>\n",
              "      <td>suspend</td>\n",
              "      <td>2016-01-02 10:49:28.816000+00:00</td>\n",
              "      <td>Existing loan takeover</td>\n",
              "      <td>New credit</td>\n",
              "      <td>Application_652823628</td>\n",
              "      <td>20000.0</td>\n",
              "      <td>NaN</td>\n",
              "      <td>NaN</td>\n",
              "      <td>NaN</td>\n",
              "      <td>NaN</td>\n",
              "      <td>NaN</td>\n",
              "      <td>NaN</td>\n",
              "      <td>NaN</td>\n",
              "      <td>NaN</td>\n",
              "      <td>2016-01-02 10:49:28.816000+00:00</td>\n",
              "      <td>201553</td>\n",
              "      <td>2015-12-28</td>\n",
              "      <td>2016-01-11</td>\n",
              "      <td>False</td>\n",
              "      <td>1</td>\n",
              "    </tr>\n",
              "    <tr>\n",
              "      <th>8</th>\n",
              "      <td>statechange</td>\n",
              "      <td>User_52</td>\n",
              "      <td>A_Accepted</td>\n",
              "      <td>Application</td>\n",
              "      <td>ApplState_99568828</td>\n",
              "      <td>complete</td>\n",
              "      <td>2016-01-02 11:23:04.299000+00:00</td>\n",
              "      <td>Existing loan takeover</td>\n",
              "      <td>New credit</td>\n",
              "      <td>Application_652823628</td>\n",
              "      <td>20000.0</td>\n",
              "      <td>NaN</td>\n",
              "      <td>NaN</td>\n",
              "      <td>NaN</td>\n",
              "      <td>NaN</td>\n",
              "      <td>NaN</td>\n",
              "      <td>NaN</td>\n",
              "      <td>NaN</td>\n",
              "      <td>NaN</td>\n",
              "      <td>2016-01-02 11:23:04.299000+00:00</td>\n",
              "      <td>201553</td>\n",
              "      <td>2015-12-28</td>\n",
              "      <td>2016-01-11</td>\n",
              "      <td>False</td>\n",
              "      <td>1</td>\n",
              "    </tr>\n",
              "    <tr>\n",
              "      <th>9</th>\n",
              "      <td>Created</td>\n",
              "      <td>User_52</td>\n",
              "      <td>O_Create Offer</td>\n",
              "      <td>Offer</td>\n",
              "      <td>Offer_148581083</td>\n",
              "      <td>complete</td>\n",
              "      <td>2016-01-02 11:29:03.994000+00:00</td>\n",
              "      <td>Existing loan takeover</td>\n",
              "      <td>New credit</td>\n",
              "      <td>Application_652823628</td>\n",
              "      <td>20000.0</td>\n",
              "      <td>20000.0</td>\n",
              "      <td>44.0</td>\n",
              "      <td>True</td>\n",
              "      <td>498.29</td>\n",
              "      <td>True</td>\n",
              "      <td>979.0</td>\n",
              "      <td>20000.0</td>\n",
              "      <td>NaN</td>\n",
              "      <td>2016-01-02 11:29:03.994000+00:00</td>\n",
              "      <td>201553</td>\n",
              "      <td>2015-12-28</td>\n",
              "      <td>2016-01-11</td>\n",
              "      <td>False</td>\n",
              "      <td>1</td>\n",
              "    </tr>\n",
              "    <tr>\n",
              "      <th>10</th>\n",
              "      <td>statechange</td>\n",
              "      <td>User_52</td>\n",
              "      <td>O_Created</td>\n",
              "      <td>Offer</td>\n",
              "      <td>OfferState_1514834199</td>\n",
              "      <td>complete</td>\n",
              "      <td>2016-01-02 11:29:05.354000+00:00</td>\n",
              "      <td>Existing loan takeover</td>\n",
              "      <td>New credit</td>\n",
              "      <td>Application_652823628</td>\n",
              "      <td>20000.0</td>\n",
              "      <td>NaN</td>\n",
              "      <td>NaN</td>\n",
              "      <td>NaN</td>\n",
              "      <td>NaN</td>\n",
              "      <td>NaN</td>\n",
              "      <td>NaN</td>\n",
              "      <td>NaN</td>\n",
              "      <td>Offer_148581083</td>\n",
              "      <td>2016-01-02 11:29:05.354000+00:00</td>\n",
              "      <td>201553</td>\n",
              "      <td>2015-12-28</td>\n",
              "      <td>2016-01-11</td>\n",
              "      <td>False</td>\n",
              "      <td>1</td>\n",
              "    </tr>\n",
              "    <tr>\n",
              "      <th>11</th>\n",
              "      <td>statechange</td>\n",
              "      <td>User_52</td>\n",
              "      <td>O_Sent (mail and online)</td>\n",
              "      <td>Offer</td>\n",
              "      <td>OfferState_2051164740</td>\n",
              "      <td>complete</td>\n",
              "      <td>2016-01-02 11:30:28.606000+00:00</td>\n",
              "      <td>Existing loan takeover</td>\n",
              "      <td>New credit</td>\n",
              "      <td>Application_652823628</td>\n",
              "      <td>20000.0</td>\n",
              "      <td>NaN</td>\n",
              "      <td>NaN</td>\n",
              "      <td>NaN</td>\n",
              "      <td>NaN</td>\n",
              "      <td>NaN</td>\n",
              "      <td>NaN</td>\n",
              "      <td>NaN</td>\n",
              "      <td>Offer_148581083</td>\n",
              "      <td>2016-01-02 11:30:28.606000+00:00</td>\n",
              "      <td>201553</td>\n",
              "      <td>2015-12-28</td>\n",
              "      <td>2016-01-11</td>\n",
              "      <td>False</td>\n",
              "      <td>1</td>\n",
              "    </tr>\n",
              "    <tr>\n",
              "      <th>12</th>\n",
              "      <td>Deleted</td>\n",
              "      <td>User_52</td>\n",
              "      <td>W_Complete application</td>\n",
              "      <td>Workflow</td>\n",
              "      <td>Workitem_1007505836</td>\n",
              "      <td>ate_abort</td>\n",
              "      <td>2016-01-02 11:30:28.621000+00:00</td>\n",
              "      <td>Existing loan takeover</td>\n",
              "      <td>New credit</td>\n",
              "      <td>Application_652823628</td>\n",
              "      <td>20000.0</td>\n",
              "      <td>NaN</td>\n",
              "      <td>NaN</td>\n",
              "      <td>NaN</td>\n",
              "      <td>NaN</td>\n",
              "      <td>NaN</td>\n",
              "      <td>NaN</td>\n",
              "      <td>NaN</td>\n",
              "      <td>NaN</td>\n",
              "      <td>2016-01-02 11:30:28.621000+00:00</td>\n",
              "      <td>201553</td>\n",
              "      <td>2015-12-28</td>\n",
              "      <td>2016-01-11</td>\n",
              "      <td>False</td>\n",
              "      <td>1</td>\n",
              "    </tr>\n",
              "    <tr>\n",
              "      <th>13</th>\n",
              "      <td>Created</td>\n",
              "      <td>User_52</td>\n",
              "      <td>W_Call after offers</td>\n",
              "      <td>Workflow</td>\n",
              "      <td>Workitem_1087320491</td>\n",
              "      <td>schedule</td>\n",
              "      <td>2016-01-02 11:30:28.629000+00:00</td>\n",
              "      <td>Existing loan takeover</td>\n",
              "      <td>New credit</td>\n",
              "      <td>Application_652823628</td>\n",
              "      <td>20000.0</td>\n",
              "      <td>NaN</td>\n",
              "      <td>NaN</td>\n",
              "      <td>NaN</td>\n",
              "      <td>NaN</td>\n",
              "      <td>NaN</td>\n",
              "      <td>NaN</td>\n",
              "      <td>NaN</td>\n",
              "      <td>NaN</td>\n",
              "      <td>2016-01-02 11:30:28.629000+00:00</td>\n",
              "      <td>201553</td>\n",
              "      <td>2015-12-28</td>\n",
              "      <td>2016-01-11</td>\n",
              "      <td>False</td>\n",
              "      <td>1</td>\n",
              "    </tr>\n",
              "    <tr>\n",
              "      <th>14</th>\n",
              "      <td>Obtained</td>\n",
              "      <td>User_52</td>\n",
              "      <td>W_Call after offers</td>\n",
              "      <td>Workflow</td>\n",
              "      <td>Workitem_719909876</td>\n",
              "      <td>start</td>\n",
              "      <td>2016-01-02 11:30:28.631000+00:00</td>\n",
              "      <td>Existing loan takeover</td>\n",
              "      <td>New credit</td>\n",
              "      <td>Application_652823628</td>\n",
              "      <td>20000.0</td>\n",
              "      <td>NaN</td>\n",
              "      <td>NaN</td>\n",
              "      <td>NaN</td>\n",
              "      <td>NaN</td>\n",
              "      <td>NaN</td>\n",
              "      <td>NaN</td>\n",
              "      <td>NaN</td>\n",
              "      <td>NaN</td>\n",
              "      <td>2016-01-02 11:30:28.631000+00:00</td>\n",
              "      <td>201553</td>\n",
              "      <td>2015-12-28</td>\n",
              "      <td>2016-01-11</td>\n",
              "      <td>False</td>\n",
              "      <td>1</td>\n",
              "    </tr>\n",
              "    <tr>\n",
              "      <th>15</th>\n",
              "      <td>statechange</td>\n",
              "      <td>User_52</td>\n",
              "      <td>A_Complete</td>\n",
              "      <td>Application</td>\n",
              "      <td>ApplState_946455804</td>\n",
              "      <td>complete</td>\n",
              "      <td>2016-01-02 11:30:28.633000+00:00</td>\n",
              "      <td>Existing loan takeover</td>\n",
              "      <td>New credit</td>\n",
              "      <td>Application_652823628</td>\n",
              "      <td>20000.0</td>\n",
              "      <td>NaN</td>\n",
              "      <td>NaN</td>\n",
              "      <td>NaN</td>\n",
              "      <td>NaN</td>\n",
              "      <td>NaN</td>\n",
              "      <td>NaN</td>\n",
              "      <td>NaN</td>\n",
              "      <td>NaN</td>\n",
              "      <td>2016-01-02 11:30:28.633000+00:00</td>\n",
              "      <td>201553</td>\n",
              "      <td>2015-12-28</td>\n",
              "      <td>2016-01-11</td>\n",
              "      <td>False</td>\n",
              "      <td>1</td>\n",
              "    </tr>\n",
              "    <tr>\n",
              "      <th>16</th>\n",
              "      <td>Released</td>\n",
              "      <td>User_52</td>\n",
              "      <td>W_Call after offers</td>\n",
              "      <td>Workflow</td>\n",
              "      <td>Workitem_1447720177</td>\n",
              "      <td>suspend</td>\n",
              "      <td>2016-01-02 11:32:41.624000+00:00</td>\n",
              "      <td>Existing loan takeover</td>\n",
              "      <td>New credit</td>\n",
              "      <td>Application_652823628</td>\n",
              "      <td>20000.0</td>\n",
              "      <td>NaN</td>\n",
              "      <td>NaN</td>\n",
              "      <td>NaN</td>\n",
              "      <td>NaN</td>\n",
              "      <td>NaN</td>\n",
              "      <td>NaN</td>\n",
              "      <td>NaN</td>\n",
              "      <td>NaN</td>\n",
              "      <td>2016-01-02 11:32:41.624000+00:00</td>\n",
              "      <td>201553</td>\n",
              "      <td>2015-12-28</td>\n",
              "      <td>2016-01-11</td>\n",
              "      <td>False</td>\n",
              "      <td>1</td>\n",
              "    </tr>\n",
              "    <tr>\n",
              "      <th>17</th>\n",
              "      <td>Obtained</td>\n",
              "      <td>User_11</td>\n",
              "      <td>W_Call after offers</td>\n",
              "      <td>Workflow</td>\n",
              "      <td>Workitem_1260329040</td>\n",
              "      <td>resume</td>\n",
              "      <td>2016-01-06 09:26:44.492000+00:00</td>\n",
              "      <td>Existing loan takeover</td>\n",
              "      <td>New credit</td>\n",
              "      <td>Application_652823628</td>\n",
              "      <td>20000.0</td>\n",
              "      <td>NaN</td>\n",
              "      <td>NaN</td>\n",
              "      <td>NaN</td>\n",
              "      <td>NaN</td>\n",
              "      <td>NaN</td>\n",
              "      <td>NaN</td>\n",
              "      <td>NaN</td>\n",
              "      <td>NaN</td>\n",
              "      <td>2016-01-06 09:26:44.492000+00:00</td>\n",
              "      <td>201601</td>\n",
              "      <td>2016-01-04</td>\n",
              "      <td>2016-01-11</td>\n",
              "      <td>False</td>\n",
              "      <td>1</td>\n",
              "    </tr>\n",
              "    <tr>\n",
              "      <th>18</th>\n",
              "      <td>Released</td>\n",
              "      <td>User_11</td>\n",
              "      <td>W_Call after offers</td>\n",
              "      <td>Workflow</td>\n",
              "      <td>Workitem_1152103512</td>\n",
              "      <td>suspend</td>\n",
              "      <td>2016-01-06 09:27:08.472000+00:00</td>\n",
              "      <td>Existing loan takeover</td>\n",
              "      <td>New credit</td>\n",
              "      <td>Application_652823628</td>\n",
              "      <td>20000.0</td>\n",
              "      <td>NaN</td>\n",
              "      <td>NaN</td>\n",
              "      <td>NaN</td>\n",
              "      <td>NaN</td>\n",
              "      <td>NaN</td>\n",
              "      <td>NaN</td>\n",
              "      <td>NaN</td>\n",
              "      <td>NaN</td>\n",
              "      <td>2016-01-06 09:27:08.472000+00:00</td>\n",
              "      <td>201601</td>\n",
              "      <td>2016-01-04</td>\n",
              "      <td>2016-01-11</td>\n",
              "      <td>False</td>\n",
              "      <td>1</td>\n",
              "    </tr>\n",
              "    <tr>\n",
              "      <th>19</th>\n",
              "      <td>Deleted</td>\n",
              "      <td>User_117</td>\n",
              "      <td>W_Call after offers</td>\n",
              "      <td>Workflow</td>\n",
              "      <td>Workitem_524990185</td>\n",
              "      <td>ate_abort</td>\n",
              "      <td>2016-01-13 13:10:55.138000+00:00</td>\n",
              "      <td>Existing loan takeover</td>\n",
              "      <td>New credit</td>\n",
              "      <td>Application_652823628</td>\n",
              "      <td>20000.0</td>\n",
              "      <td>NaN</td>\n",
              "      <td>NaN</td>\n",
              "      <td>NaN</td>\n",
              "      <td>NaN</td>\n",
              "      <td>NaN</td>\n",
              "      <td>NaN</td>\n",
              "      <td>NaN</td>\n",
              "      <td>NaN</td>\n",
              "      <td>2016-01-13 13:10:55.138000+00:00</td>\n",
              "      <td>201602</td>\n",
              "      <td>2016-01-11</td>\n",
              "      <td>2016-01-11</td>\n",
              "      <td>True</td>\n",
              "      <td>1</td>\n",
              "    </tr>\n",
              "    <tr>\n",
              "      <th>20</th>\n",
              "      <td>Created</td>\n",
              "      <td>User_117</td>\n",
              "      <td>W_Validate application</td>\n",
              "      <td>Workflow</td>\n",
              "      <td>Workitem_781654767</td>\n",
              "      <td>schedule</td>\n",
              "      <td>2016-01-13 13:10:55.144000+00:00</td>\n",
              "      <td>Existing loan takeover</td>\n",
              "      <td>New credit</td>\n",
              "      <td>Application_652823628</td>\n",
              "      <td>20000.0</td>\n",
              "      <td>NaN</td>\n",
              "      <td>NaN</td>\n",
              "      <td>NaN</td>\n",
              "      <td>NaN</td>\n",
              "      <td>NaN</td>\n",
              "      <td>NaN</td>\n",
              "      <td>NaN</td>\n",
              "      <td>NaN</td>\n",
              "      <td>2016-01-13 13:10:55.144000+00:00</td>\n",
              "      <td>201602</td>\n",
              "      <td>2016-01-11</td>\n",
              "      <td>2016-01-11</td>\n",
              "      <td>True</td>\n",
              "      <td>1</td>\n",
              "    </tr>\n",
              "    <tr>\n",
              "      <th>21</th>\n",
              "      <td>Obtained</td>\n",
              "      <td>User_117</td>\n",
              "      <td>W_Validate application</td>\n",
              "      <td>Workflow</td>\n",
              "      <td>Workitem_1641716416</td>\n",
              "      <td>start</td>\n",
              "      <td>2016-01-13 13:10:55.145000+00:00</td>\n",
              "      <td>Existing loan takeover</td>\n",
              "      <td>New credit</td>\n",
              "      <td>Application_652823628</td>\n",
              "      <td>20000.0</td>\n",
              "      <td>NaN</td>\n",
              "      <td>NaN</td>\n",
              "      <td>NaN</td>\n",
              "      <td>NaN</td>\n",
              "      <td>NaN</td>\n",
              "      <td>NaN</td>\n",
              "      <td>NaN</td>\n",
              "      <td>NaN</td>\n",
              "      <td>2016-01-13 13:10:55.145000+00:00</td>\n",
              "      <td>201602</td>\n",
              "      <td>2016-01-11</td>\n",
              "      <td>2016-01-11</td>\n",
              "      <td>True</td>\n",
              "      <td>1</td>\n",
              "    </tr>\n",
              "    <tr>\n",
              "      <th>22</th>\n",
              "      <td>statechange</td>\n",
              "      <td>User_117</td>\n",
              "      <td>A_Validating</td>\n",
              "      <td>Application</td>\n",
              "      <td>ApplState_752879093</td>\n",
              "      <td>complete</td>\n",
              "      <td>2016-01-13 13:10:55.973000+00:00</td>\n",
              "      <td>Existing loan takeover</td>\n",
              "      <td>New credit</td>\n",
              "      <td>Application_652823628</td>\n",
              "      <td>20000.0</td>\n",
              "      <td>NaN</td>\n",
              "      <td>NaN</td>\n",
              "      <td>NaN</td>\n",
              "      <td>NaN</td>\n",
              "      <td>NaN</td>\n",
              "      <td>NaN</td>\n",
              "      <td>NaN</td>\n",
              "      <td>NaN</td>\n",
              "      <td>2016-01-13 13:10:55.973000+00:00</td>\n",
              "      <td>201602</td>\n",
              "      <td>2016-01-11</td>\n",
              "      <td>2016-01-11</td>\n",
              "      <td>True</td>\n",
              "      <td>1</td>\n",
              "    </tr>\n",
              "    <tr>\n",
              "      <th>23</th>\n",
              "      <td>statechange</td>\n",
              "      <td>User_117</td>\n",
              "      <td>O_Returned</td>\n",
              "      <td>Offer</td>\n",
              "      <td>OfferState_1310330551</td>\n",
              "      <td>complete</td>\n",
              "      <td>2016-01-13 13:11:03.569000+00:00</td>\n",
              "      <td>Existing loan takeover</td>\n",
              "      <td>New credit</td>\n",
              "      <td>Application_652823628</td>\n",
              "      <td>20000.0</td>\n",
              "      <td>NaN</td>\n",
              "      <td>NaN</td>\n",
              "      <td>NaN</td>\n",
              "      <td>NaN</td>\n",
              "      <td>NaN</td>\n",
              "      <td>NaN</td>\n",
              "      <td>NaN</td>\n",
              "      <td>Offer_148581083</td>\n",
              "      <td>2016-01-13 13:11:03.569000+00:00</td>\n",
              "      <td>201602</td>\n",
              "      <td>2016-01-11</td>\n",
              "      <td>2016-01-11</td>\n",
              "      <td>True</td>\n",
              "      <td>1</td>\n",
              "    </tr>\n",
              "    <tr>\n",
              "      <th>24</th>\n",
              "      <td>Released</td>\n",
              "      <td>User_117</td>\n",
              "      <td>W_Validate application</td>\n",
              "      <td>Workflow</td>\n",
              "      <td>Workitem_823786158</td>\n",
              "      <td>suspend</td>\n",
              "      <td>2016-01-13 13:15:39.110000+00:00</td>\n",
              "      <td>Existing loan takeover</td>\n",
              "      <td>New credit</td>\n",
              "      <td>Application_652823628</td>\n",
              "      <td>20000.0</td>\n",
              "      <td>NaN</td>\n",
              "      <td>NaN</td>\n",
              "      <td>NaN</td>\n",
              "      <td>NaN</td>\n",
              "      <td>NaN</td>\n",
              "      <td>NaN</td>\n",
              "      <td>NaN</td>\n",
              "      <td>NaN</td>\n",
              "      <td>2016-01-13 13:15:39.110000+00:00</td>\n",
              "      <td>201602</td>\n",
              "      <td>2016-01-11</td>\n",
              "      <td>2016-01-11</td>\n",
              "      <td>True</td>\n",
              "      <td>1</td>\n",
              "    </tr>\n",
              "    <tr>\n",
              "      <th>25</th>\n",
              "      <td>Deleted</td>\n",
              "      <td>User_115</td>\n",
              "      <td>W_Validate application</td>\n",
              "      <td>Workflow</td>\n",
              "      <td>Workitem_392297123</td>\n",
              "      <td>ate_abort</td>\n",
              "      <td>2016-01-14 09:16:20.963000+00:00</td>\n",
              "      <td>Existing loan takeover</td>\n",
              "      <td>New credit</td>\n",
              "      <td>Application_652823628</td>\n",
              "      <td>20000.0</td>\n",
              "      <td>NaN</td>\n",
              "      <td>NaN</td>\n",
              "      <td>NaN</td>\n",
              "      <td>NaN</td>\n",
              "      <td>NaN</td>\n",
              "      <td>NaN</td>\n",
              "      <td>NaN</td>\n",
              "      <td>NaN</td>\n",
              "      <td>2016-01-14 09:16:20.963000+00:00</td>\n",
              "      <td>201602</td>\n",
              "      <td>2016-01-11</td>\n",
              "      <td>2016-01-11</td>\n",
              "      <td>True</td>\n",
              "      <td>1</td>\n",
              "    </tr>\n",
              "    <tr>\n",
              "      <th>26</th>\n",
              "      <td>Created</td>\n",
              "      <td>User_115</td>\n",
              "      <td>W_Call incomplete files</td>\n",
              "      <td>Workflow</td>\n",
              "      <td>Workitem_835564623</td>\n",
              "      <td>schedule</td>\n",
              "      <td>2016-01-14 09:16:20.970000+00:00</td>\n",
              "      <td>Existing loan takeover</td>\n",
              "      <td>New credit</td>\n",
              "      <td>Application_652823628</td>\n",
              "      <td>20000.0</td>\n",
              "      <td>NaN</td>\n",
              "      <td>NaN</td>\n",
              "      <td>NaN</td>\n",
              "      <td>NaN</td>\n",
              "      <td>NaN</td>\n",
              "      <td>NaN</td>\n",
              "      <td>NaN</td>\n",
              "      <td>NaN</td>\n",
              "      <td>2016-01-14 09:16:20.970000+00:00</td>\n",
              "      <td>201602</td>\n",
              "      <td>2016-01-11</td>\n",
              "      <td>2016-01-11</td>\n",
              "      <td>True</td>\n",
              "      <td>1</td>\n",
              "    </tr>\n",
              "    <tr>\n",
              "      <th>27</th>\n",
              "      <td>Obtained</td>\n",
              "      <td>User_115</td>\n",
              "      <td>W_Call incomplete files</td>\n",
              "      <td>Workflow</td>\n",
              "      <td>Workitem_2031858979</td>\n",
              "      <td>start</td>\n",
              "      <td>2016-01-14 09:16:20.972000+00:00</td>\n",
              "      <td>Existing loan takeover</td>\n",
              "      <td>New credit</td>\n",
              "      <td>Application_652823628</td>\n",
              "      <td>20000.0</td>\n",
              "      <td>NaN</td>\n",
              "      <td>NaN</td>\n",
              "      <td>NaN</td>\n",
              "      <td>NaN</td>\n",
              "      <td>NaN</td>\n",
              "      <td>NaN</td>\n",
              "      <td>NaN</td>\n",
              "      <td>NaN</td>\n",
              "      <td>2016-01-14 09:16:20.972000+00:00</td>\n",
              "      <td>201602</td>\n",
              "      <td>2016-01-11</td>\n",
              "      <td>2016-01-11</td>\n",
              "      <td>True</td>\n",
              "      <td>1</td>\n",
              "    </tr>\n",
              "    <tr>\n",
              "      <th>28</th>\n",
              "      <td>statechange</td>\n",
              "      <td>User_115</td>\n",
              "      <td>A_Incomplete</td>\n",
              "      <td>Application</td>\n",
              "      <td>ApplState_390139749</td>\n",
              "      <td>complete</td>\n",
              "      <td>2016-01-14 09:16:20.974000+00:00</td>\n",
              "      <td>Existing loan takeover</td>\n",
              "      <td>New credit</td>\n",
              "      <td>Application_652823628</td>\n",
              "      <td>20000.0</td>\n",
              "      <td>NaN</td>\n",
              "      <td>NaN</td>\n",
              "      <td>NaN</td>\n",
              "      <td>NaN</td>\n",
              "      <td>NaN</td>\n",
              "      <td>NaN</td>\n",
              "      <td>NaN</td>\n",
              "      <td>NaN</td>\n",
              "      <td>2016-01-14 09:16:20.974000+00:00</td>\n",
              "      <td>201602</td>\n",
              "      <td>2016-01-11</td>\n",
              "      <td>2016-01-11</td>\n",
              "      <td>True</td>\n",
              "      <td>1</td>\n",
              "    </tr>\n",
              "    <tr>\n",
              "      <th>29</th>\n",
              "      <td>Released</td>\n",
              "      <td>User_115</td>\n",
              "      <td>W_Call incomplete files</td>\n",
              "      <td>Workflow</td>\n",
              "      <td>Workitem_1628953525</td>\n",
              "      <td>suspend</td>\n",
              "      <td>2016-01-14 09:17:46.943000+00:00</td>\n",
              "      <td>Existing loan takeover</td>\n",
              "      <td>New credit</td>\n",
              "      <td>Application_652823628</td>\n",
              "      <td>20000.0</td>\n",
              "      <td>NaN</td>\n",
              "      <td>NaN</td>\n",
              "      <td>NaN</td>\n",
              "      <td>NaN</td>\n",
              "      <td>NaN</td>\n",
              "      <td>NaN</td>\n",
              "      <td>NaN</td>\n",
              "      <td>NaN</td>\n",
              "      <td>2016-01-14 09:17:46.943000+00:00</td>\n",
              "      <td>201602</td>\n",
              "      <td>2016-01-11</td>\n",
              "      <td>2016-01-11</td>\n",
              "      <td>True</td>\n",
              "      <td>1</td>\n",
              "    </tr>\n",
              "    <tr>\n",
              "      <th>30</th>\n",
              "      <td>Obtained</td>\n",
              "      <td>User_2</td>\n",
              "      <td>W_Call incomplete files</td>\n",
              "      <td>Workflow</td>\n",
              "      <td>Workitem_943086771</td>\n",
              "      <td>resume</td>\n",
              "      <td>2016-01-14 11:27:28.536000+00:00</td>\n",
              "      <td>Existing loan takeover</td>\n",
              "      <td>New credit</td>\n",
              "      <td>Application_652823628</td>\n",
              "      <td>20000.0</td>\n",
              "      <td>NaN</td>\n",
              "      <td>NaN</td>\n",
              "      <td>NaN</td>\n",
              "      <td>NaN</td>\n",
              "      <td>NaN</td>\n",
              "      <td>NaN</td>\n",
              "      <td>NaN</td>\n",
              "      <td>NaN</td>\n",
              "      <td>2016-01-14 11:27:28.536000+00:00</td>\n",
              "      <td>201602</td>\n",
              "      <td>2016-01-11</td>\n",
              "      <td>2016-01-11</td>\n",
              "      <td>True</td>\n",
              "      <td>1</td>\n",
              "    </tr>\n",
              "    <tr>\n",
              "      <th>31</th>\n",
              "      <td>Released</td>\n",
              "      <td>User_2</td>\n",
              "      <td>W_Call incomplete files</td>\n",
              "      <td>Workflow</td>\n",
              "      <td>Workitem_50564835</td>\n",
              "      <td>suspend</td>\n",
              "      <td>2016-01-14 11:30:19.089000+00:00</td>\n",
              "      <td>Existing loan takeover</td>\n",
              "      <td>New credit</td>\n",
              "      <td>Application_652823628</td>\n",
              "      <td>20000.0</td>\n",
              "      <td>NaN</td>\n",
              "      <td>NaN</td>\n",
              "      <td>NaN</td>\n",
              "      <td>NaN</td>\n",
              "      <td>NaN</td>\n",
              "      <td>NaN</td>\n",
              "      <td>NaN</td>\n",
              "      <td>NaN</td>\n",
              "      <td>2016-01-14 11:30:19.089000+00:00</td>\n",
              "      <td>201602</td>\n",
              "      <td>2016-01-11</td>\n",
              "      <td>2016-01-11</td>\n",
              "      <td>True</td>\n",
              "      <td>1</td>\n",
              "    </tr>\n",
              "    <tr>\n",
              "      <th>32</th>\n",
              "      <td>Deleted</td>\n",
              "      <td>User_117</td>\n",
              "      <td>W_Call incomplete files</td>\n",
              "      <td>Workflow</td>\n",
              "      <td>Workitem_1225999065</td>\n",
              "      <td>ate_abort</td>\n",
              "      <td>2016-01-14 13:39:51.407000+00:00</td>\n",
              "      <td>Existing loan takeover</td>\n",
              "      <td>New credit</td>\n",
              "      <td>Application_652823628</td>\n",
              "      <td>20000.0</td>\n",
              "      <td>NaN</td>\n",
              "      <td>NaN</td>\n",
              "      <td>NaN</td>\n",
              "      <td>NaN</td>\n",
              "      <td>NaN</td>\n",
              "      <td>NaN</td>\n",
              "      <td>NaN</td>\n",
              "      <td>NaN</td>\n",
              "      <td>2016-01-14 13:39:51.407000+00:00</td>\n",
              "      <td>201602</td>\n",
              "      <td>2016-01-11</td>\n",
              "      <td>2016-01-11</td>\n",
              "      <td>True</td>\n",
              "      <td>1</td>\n",
              "    </tr>\n",
              "    <tr>\n",
              "      <th>33</th>\n",
              "      <td>Created</td>\n",
              "      <td>User_117</td>\n",
              "      <td>W_Validate application</td>\n",
              "      <td>Workflow</td>\n",
              "      <td>Workitem_801031108</td>\n",
              "      <td>schedule</td>\n",
              "      <td>2016-01-14 13:39:51.492000+00:00</td>\n",
              "      <td>Existing loan takeover</td>\n",
              "      <td>New credit</td>\n",
              "      <td>Application_652823628</td>\n",
              "      <td>20000.0</td>\n",
              "      <td>NaN</td>\n",
              "      <td>NaN</td>\n",
              "      <td>NaN</td>\n",
              "      <td>NaN</td>\n",
              "      <td>NaN</td>\n",
              "      <td>NaN</td>\n",
              "      <td>NaN</td>\n",
              "      <td>NaN</td>\n",
              "      <td>2016-01-14 13:39:51.492000+00:00</td>\n",
              "      <td>201602</td>\n",
              "      <td>2016-01-11</td>\n",
              "      <td>2016-01-11</td>\n",
              "      <td>True</td>\n",
              "      <td>1</td>\n",
              "    </tr>\n",
              "    <tr>\n",
              "      <th>34</th>\n",
              "      <td>Obtained</td>\n",
              "      <td>User_117</td>\n",
              "      <td>W_Validate application</td>\n",
              "      <td>Workflow</td>\n",
              "      <td>Workitem_2071763612</td>\n",
              "      <td>start</td>\n",
              "      <td>2016-01-14 13:39:51.494000+00:00</td>\n",
              "      <td>Existing loan takeover</td>\n",
              "      <td>New credit</td>\n",
              "      <td>Application_652823628</td>\n",
              "      <td>20000.0</td>\n",
              "      <td>NaN</td>\n",
              "      <td>NaN</td>\n",
              "      <td>NaN</td>\n",
              "      <td>NaN</td>\n",
              "      <td>NaN</td>\n",
              "      <td>NaN</td>\n",
              "      <td>NaN</td>\n",
              "      <td>NaN</td>\n",
              "      <td>2016-01-14 13:39:51.494000+00:00</td>\n",
              "      <td>201602</td>\n",
              "      <td>2016-01-11</td>\n",
              "      <td>2016-01-11</td>\n",
              "      <td>True</td>\n",
              "      <td>1</td>\n",
              "    </tr>\n",
              "    <tr>\n",
              "      <th>35</th>\n",
              "      <td>statechange</td>\n",
              "      <td>User_117</td>\n",
              "      <td>A_Validating</td>\n",
              "      <td>Application</td>\n",
              "      <td>ApplState_1264188685</td>\n",
              "      <td>complete</td>\n",
              "      <td>2016-01-14 13:39:51.556000+00:00</td>\n",
              "      <td>Existing loan takeover</td>\n",
              "      <td>New credit</td>\n",
              "      <td>Application_652823628</td>\n",
              "      <td>20000.0</td>\n",
              "      <td>NaN</td>\n",
              "      <td>NaN</td>\n",
              "      <td>NaN</td>\n",
              "      <td>NaN</td>\n",
              "      <td>NaN</td>\n",
              "      <td>NaN</td>\n",
              "      <td>NaN</td>\n",
              "      <td>NaN</td>\n",
              "      <td>2016-01-14 13:39:51.556000+00:00</td>\n",
              "      <td>201602</td>\n",
              "      <td>2016-01-11</td>\n",
              "      <td>2016-01-11</td>\n",
              "      <td>True</td>\n",
              "      <td>1</td>\n",
              "    </tr>\n",
              "    <tr>\n",
              "      <th>36</th>\n",
              "      <td>Released</td>\n",
              "      <td>User_117</td>\n",
              "      <td>W_Validate application</td>\n",
              "      <td>Workflow</td>\n",
              "      <td>Workitem_646578909</td>\n",
              "      <td>suspend</td>\n",
              "      <td>2016-01-14 13:54:49.680000+00:00</td>\n",
              "      <td>Existing loan takeover</td>\n",
              "      <td>New credit</td>\n",
              "      <td>Application_652823628</td>\n",
              "      <td>20000.0</td>\n",
              "      <td>NaN</td>\n",
              "      <td>NaN</td>\n",
              "      <td>NaN</td>\n",
              "      <td>NaN</td>\n",
              "      <td>NaN</td>\n",
              "      <td>NaN</td>\n",
              "      <td>NaN</td>\n",
              "      <td>NaN</td>\n",
              "      <td>2016-01-14 13:54:49.680000+00:00</td>\n",
              "      <td>201602</td>\n",
              "      <td>2016-01-11</td>\n",
              "      <td>2016-01-11</td>\n",
              "      <td>True</td>\n",
              "      <td>1</td>\n",
              "    </tr>\n",
              "    <tr>\n",
              "      <th>37</th>\n",
              "      <td>statechange</td>\n",
              "      <td>User_115</td>\n",
              "      <td>O_Accepted</td>\n",
              "      <td>Offer</td>\n",
              "      <td>OfferState_1093322349</td>\n",
              "      <td>complete</td>\n",
              "      <td>2016-01-14 15:49:11.416000+00:00</td>\n",
              "      <td>Existing loan takeover</td>\n",
              "      <td>New credit</td>\n",
              "      <td>Application_652823628</td>\n",
              "      <td>20000.0</td>\n",
              "      <td>NaN</td>\n",
              "      <td>NaN</td>\n",
              "      <td>NaN</td>\n",
              "      <td>NaN</td>\n",
              "      <td>NaN</td>\n",
              "      <td>NaN</td>\n",
              "      <td>NaN</td>\n",
              "      <td>Offer_148581083</td>\n",
              "      <td>2016-01-14 15:49:11.416000+00:00</td>\n",
              "      <td>201602</td>\n",
              "      <td>2016-01-11</td>\n",
              "      <td>2016-01-11</td>\n",
              "      <td>True</td>\n",
              "      <td>1</td>\n",
              "    </tr>\n",
              "    <tr>\n",
              "      <th>38</th>\n",
              "      <td>statechange</td>\n",
              "      <td>User_115</td>\n",
              "      <td>A_Pending</td>\n",
              "      <td>Application</td>\n",
              "      <td>ApplState_1179730815</td>\n",
              "      <td>complete</td>\n",
              "      <td>2016-01-14 15:49:11.420000+00:00</td>\n",
              "      <td>Existing loan takeover</td>\n",
              "      <td>New credit</td>\n",
              "      <td>Application_652823628</td>\n",
              "      <td>20000.0</td>\n",
              "      <td>NaN</td>\n",
              "      <td>NaN</td>\n",
              "      <td>NaN</td>\n",
              "      <td>NaN</td>\n",
              "      <td>NaN</td>\n",
              "      <td>NaN</td>\n",
              "      <td>NaN</td>\n",
              "      <td>NaN</td>\n",
              "      <td>2016-01-14 15:49:11.420000+00:00</td>\n",
              "      <td>201602</td>\n",
              "      <td>2016-01-11</td>\n",
              "      <td>2016-01-11</td>\n",
              "      <td>True</td>\n",
              "      <td>1</td>\n",
              "    </tr>\n",
              "    <tr>\n",
              "      <th>39</th>\n",
              "      <td>Deleted</td>\n",
              "      <td>User_115</td>\n",
              "      <td>W_Validate application</td>\n",
              "      <td>Workflow</td>\n",
              "      <td>Workitem_2067229931</td>\n",
              "      <td>ate_abort</td>\n",
              "      <td>2016-01-14 15:49:11.423000+00:00</td>\n",
              "      <td>Existing loan takeover</td>\n",
              "      <td>New credit</td>\n",
              "      <td>Application_652823628</td>\n",
              "      <td>20000.0</td>\n",
              "      <td>NaN</td>\n",
              "      <td>NaN</td>\n",
              "      <td>NaN</td>\n",
              "      <td>NaN</td>\n",
              "      <td>NaN</td>\n",
              "      <td>NaN</td>\n",
              "      <td>NaN</td>\n",
              "      <td>NaN</td>\n",
              "      <td>2016-01-14 15:49:11.423000+00:00</td>\n",
              "      <td>201602</td>\n",
              "      <td>2016-01-11</td>\n",
              "      <td>2016-01-11</td>\n",
              "      <td>True</td>\n",
              "      <td>1</td>\n",
              "    </tr>\n",
              "  </tbody>\n",
              "</table>\n",
              "</div>"
            ],
            "text/plain": [
              "         Action org:resource  ... finished_this_week quarter\n",
              "0       Created       User_1  ...              False       1\n",
              "1   statechange       User_1  ...              False       1\n",
              "2       Created       User_1  ...              False       1\n",
              "3       Deleted       User_1  ...              False       1\n",
              "4       Created       User_1  ...              False       1\n",
              "5   statechange       User_1  ...              False       1\n",
              "6      Obtained      User_17  ...              False       1\n",
              "7      Released      User_17  ...              False       1\n",
              "8   statechange      User_52  ...              False       1\n",
              "9       Created      User_52  ...              False       1\n",
              "10  statechange      User_52  ...              False       1\n",
              "11  statechange      User_52  ...              False       1\n",
              "12      Deleted      User_52  ...              False       1\n",
              "13      Created      User_52  ...              False       1\n",
              "14     Obtained      User_52  ...              False       1\n",
              "15  statechange      User_52  ...              False       1\n",
              "16     Released      User_52  ...              False       1\n",
              "17     Obtained      User_11  ...              False       1\n",
              "18     Released      User_11  ...              False       1\n",
              "19      Deleted     User_117  ...               True       1\n",
              "20      Created     User_117  ...               True       1\n",
              "21     Obtained     User_117  ...               True       1\n",
              "22  statechange     User_117  ...               True       1\n",
              "23  statechange     User_117  ...               True       1\n",
              "24     Released     User_117  ...               True       1\n",
              "25      Deleted     User_115  ...               True       1\n",
              "26      Created     User_115  ...               True       1\n",
              "27     Obtained     User_115  ...               True       1\n",
              "28  statechange     User_115  ...               True       1\n",
              "29     Released     User_115  ...               True       1\n",
              "30     Obtained       User_2  ...               True       1\n",
              "31     Released       User_2  ...               True       1\n",
              "32      Deleted     User_117  ...               True       1\n",
              "33      Created     User_117  ...               True       1\n",
              "34     Obtained     User_117  ...               True       1\n",
              "35  statechange     User_117  ...               True       1\n",
              "36     Released     User_117  ...               True       1\n",
              "37  statechange     User_115  ...               True       1\n",
              "38  statechange     User_115  ...               True       1\n",
              "39      Deleted     User_115  ...               True       1\n",
              "\n",
              "[40 rows x 25 columns]"
            ]
          },
          "metadata": {
            "tags": []
          },
          "execution_count": 210
        }
      ]
    },
    {
      "cell_type": "markdown",
      "metadata": {
        "id": "q8Rb079yFE_l",
        "colab_type": "text"
      },
      "source": [
        "**Creating column with events cumulative sum**"
      ]
    },
    {
      "cell_type": "code",
      "metadata": {
        "id": "rSdcpN_qG3uZ",
        "colab_type": "code",
        "colab": {
          "base_uri": "https://localhost:8080/",
          "height": 419
        },
        "outputId": "4bdf04e9-79bc-44a8-ae54-c7754b89db86"
      },
      "source": [
        "events_per_week_df = application_df[application_df['EventOrigin'] == 'Application'].rename(columns={'case:concept:name':'application_id'})\n",
        "events_per_week_df = events_per_week_df.groupby(['application_id', 'week_of_year'])['EventOrigin'].count().reset_index().rename(columns={'EventOrigin':'num_events'})\n",
        "events_per_week_df['ac_events'] = events_per_week_df.groupby(['application_id'])['num_events'].apply(lambda x: x.cumsum())\n",
        "events_per_week_df"
      ],
      "execution_count": 211,
      "outputs": [
        {
          "output_type": "execute_result",
          "data": {
            "text/html": [
              "<div>\n",
              "<style scoped>\n",
              "    .dataframe tbody tr th:only-of-type {\n",
              "        vertical-align: middle;\n",
              "    }\n",
              "\n",
              "    .dataframe tbody tr th {\n",
              "        vertical-align: top;\n",
              "    }\n",
              "\n",
              "    .dataframe thead th {\n",
              "        text-align: right;\n",
              "    }\n",
              "</style>\n",
              "<table border=\"1\" class=\"dataframe\">\n",
              "  <thead>\n",
              "    <tr style=\"text-align: right;\">\n",
              "      <th></th>\n",
              "      <th>application_id</th>\n",
              "      <th>week_of_year</th>\n",
              "      <th>num_events</th>\n",
              "      <th>ac_events</th>\n",
              "    </tr>\n",
              "  </thead>\n",
              "  <tbody>\n",
              "    <tr>\n",
              "      <th>0</th>\n",
              "      <td>Application_1000086665</td>\n",
              "      <td>201631</td>\n",
              "      <td>5</td>\n",
              "      <td>5</td>\n",
              "    </tr>\n",
              "    <tr>\n",
              "      <th>1</th>\n",
              "      <td>Application_1000086665</td>\n",
              "      <td>201636</td>\n",
              "      <td>1</td>\n",
              "      <td>6</td>\n",
              "    </tr>\n",
              "    <tr>\n",
              "      <th>2</th>\n",
              "      <td>Application_1000158214</td>\n",
              "      <td>201622</td>\n",
              "      <td>3</td>\n",
              "      <td>3</td>\n",
              "    </tr>\n",
              "    <tr>\n",
              "      <th>3</th>\n",
              "      <td>Application_1000158214</td>\n",
              "      <td>201623</td>\n",
              "      <td>4</td>\n",
              "      <td>7</td>\n",
              "    </tr>\n",
              "    <tr>\n",
              "      <th>4</th>\n",
              "      <td>Application_1000311556</td>\n",
              "      <td>201614</td>\n",
              "      <td>4</td>\n",
              "      <td>4</td>\n",
              "    </tr>\n",
              "    <tr>\n",
              "      <th>...</th>\n",
              "      <td>...</td>\n",
              "      <td>...</td>\n",
              "      <td>...</td>\n",
              "      <td>...</td>\n",
              "    </tr>\n",
              "    <tr>\n",
              "      <th>84903</th>\n",
              "      <td>Application_999993467</td>\n",
              "      <td>201629</td>\n",
              "      <td>1</td>\n",
              "      <td>6</td>\n",
              "    </tr>\n",
              "    <tr>\n",
              "      <th>84904</th>\n",
              "      <td>Application_999993812</td>\n",
              "      <td>201640</td>\n",
              "      <td>3</td>\n",
              "      <td>3</td>\n",
              "    </tr>\n",
              "    <tr>\n",
              "      <th>84905</th>\n",
              "      <td>Application_999993812</td>\n",
              "      <td>201641</td>\n",
              "      <td>2</td>\n",
              "      <td>5</td>\n",
              "    </tr>\n",
              "    <tr>\n",
              "      <th>84906</th>\n",
              "      <td>Application_999993812</td>\n",
              "      <td>201642</td>\n",
              "      <td>2</td>\n",
              "      <td>7</td>\n",
              "    </tr>\n",
              "    <tr>\n",
              "      <th>84907</th>\n",
              "      <td>Application_999993812</td>\n",
              "      <td>201643</td>\n",
              "      <td>1</td>\n",
              "      <td>8</td>\n",
              "    </tr>\n",
              "  </tbody>\n",
              "</table>\n",
              "<p>84908 rows × 4 columns</p>\n",
              "</div>"
            ],
            "text/plain": [
              "               application_id week_of_year  num_events  ac_events\n",
              "0      Application_1000086665       201631           5          5\n",
              "1      Application_1000086665       201636           1          6\n",
              "2      Application_1000158214       201622           3          3\n",
              "3      Application_1000158214       201623           4          7\n",
              "4      Application_1000311556       201614           4          4\n",
              "...                       ...          ...         ...        ...\n",
              "84903   Application_999993467       201629           1          6\n",
              "84904   Application_999993812       201640           3          3\n",
              "84905   Application_999993812       201641           2          5\n",
              "84906   Application_999993812       201642           2          7\n",
              "84907   Application_999993812       201643           1          8\n",
              "\n",
              "[84908 rows x 4 columns]"
            ]
          },
          "metadata": {
            "tags": []
          },
          "execution_count": 211
        }
      ]
    },
    {
      "cell_type": "markdown",
      "metadata": {
        "id": "3NypchLtCH0J",
        "colab_type": "text"
      },
      "source": [
        "**Creating dataset to be used in predictive analysis**"
      ]
    },
    {
      "cell_type": "code",
      "metadata": {
        "id": "68BEYuRbJU0Y",
        "colab_type": "code",
        "colab": {
          "base_uri": "https://localhost:8080/",
          "height": 419
        },
        "outputId": "1de813d6-7049-49df-b030-f8e696c3b6d0"
      },
      "source": [
        "app_temp_df = application_df[application_df['EventOrigin'] == 'Application'].filter(['case:concept:name', 'case:LoanGoal', 'case:RequestedAmount', 'week', 'finished_this_week', 'week_of_year', 'quarter']).copy(\n",
        "    deep=True).rename(columns={'case:concept:name': 'application_id', 'case:LoanGoal': 'LoanGoal', 'case:RequestedAmount': 'RequestedAmount'})\n",
        "\n",
        "app_temp_df"
      ],
      "execution_count": 212,
      "outputs": [
        {
          "output_type": "execute_result",
          "data": {
            "text/html": [
              "<div>\n",
              "<style scoped>\n",
              "    .dataframe tbody tr th:only-of-type {\n",
              "        vertical-align: middle;\n",
              "    }\n",
              "\n",
              "    .dataframe tbody tr th {\n",
              "        vertical-align: top;\n",
              "    }\n",
              "\n",
              "    .dataframe thead th {\n",
              "        text-align: right;\n",
              "    }\n",
              "</style>\n",
              "<table border=\"1\" class=\"dataframe\">\n",
              "  <thead>\n",
              "    <tr style=\"text-align: right;\">\n",
              "      <th></th>\n",
              "      <th>application_id</th>\n",
              "      <th>LoanGoal</th>\n",
              "      <th>RequestedAmount</th>\n",
              "      <th>week</th>\n",
              "      <th>finished_this_week</th>\n",
              "      <th>week_of_year</th>\n",
              "      <th>quarter</th>\n",
              "    </tr>\n",
              "  </thead>\n",
              "  <tbody>\n",
              "    <tr>\n",
              "      <th>0</th>\n",
              "      <td>Application_652823628</td>\n",
              "      <td>Existing loan takeover</td>\n",
              "      <td>20000.0</td>\n",
              "      <td>2015-12-28</td>\n",
              "      <td>False</td>\n",
              "      <td>201553</td>\n",
              "      <td>1</td>\n",
              "    </tr>\n",
              "    <tr>\n",
              "      <th>1</th>\n",
              "      <td>Application_652823628</td>\n",
              "      <td>Existing loan takeover</td>\n",
              "      <td>20000.0</td>\n",
              "      <td>2015-12-28</td>\n",
              "      <td>False</td>\n",
              "      <td>201553</td>\n",
              "      <td>1</td>\n",
              "    </tr>\n",
              "    <tr>\n",
              "      <th>5</th>\n",
              "      <td>Application_652823628</td>\n",
              "      <td>Existing loan takeover</td>\n",
              "      <td>20000.0</td>\n",
              "      <td>2015-12-28</td>\n",
              "      <td>False</td>\n",
              "      <td>201553</td>\n",
              "      <td>1</td>\n",
              "    </tr>\n",
              "    <tr>\n",
              "      <th>8</th>\n",
              "      <td>Application_652823628</td>\n",
              "      <td>Existing loan takeover</td>\n",
              "      <td>20000.0</td>\n",
              "      <td>2015-12-28</td>\n",
              "      <td>False</td>\n",
              "      <td>201553</td>\n",
              "      <td>1</td>\n",
              "    </tr>\n",
              "    <tr>\n",
              "      <th>15</th>\n",
              "      <td>Application_652823628</td>\n",
              "      <td>Existing loan takeover</td>\n",
              "      <td>20000.0</td>\n",
              "      <td>2015-12-28</td>\n",
              "      <td>False</td>\n",
              "      <td>201553</td>\n",
              "      <td>1</td>\n",
              "    </tr>\n",
              "    <tr>\n",
              "      <th>...</th>\n",
              "      <td>...</td>\n",
              "      <td>...</td>\n",
              "      <td>...</td>\n",
              "      <td>...</td>\n",
              "      <td>...</td>\n",
              "      <td>...</td>\n",
              "      <td>...</td>\n",
              "    </tr>\n",
              "    <tr>\n",
              "      <th>1198299</th>\n",
              "      <td>Application_1350494635</td>\n",
              "      <td>Home improvement</td>\n",
              "      <td>20000.0</td>\n",
              "      <td>2016-12-26</td>\n",
              "      <td>False</td>\n",
              "      <td>201652</td>\n",
              "      <td>4</td>\n",
              "    </tr>\n",
              "    <tr>\n",
              "      <th>1198303</th>\n",
              "      <td>Application_1350494635</td>\n",
              "      <td>Home improvement</td>\n",
              "      <td>20000.0</td>\n",
              "      <td>2016-12-26</td>\n",
              "      <td>False</td>\n",
              "      <td>201652</td>\n",
              "      <td>4</td>\n",
              "    </tr>\n",
              "    <tr>\n",
              "      <th>1198305</th>\n",
              "      <td>Application_1350494635</td>\n",
              "      <td>Home improvement</td>\n",
              "      <td>20000.0</td>\n",
              "      <td>2017-01-02</td>\n",
              "      <td>False</td>\n",
              "      <td>201701</td>\n",
              "      <td>1</td>\n",
              "    </tr>\n",
              "    <tr>\n",
              "      <th>1198312</th>\n",
              "      <td>Application_1350494635</td>\n",
              "      <td>Home improvement</td>\n",
              "      <td>20000.0</td>\n",
              "      <td>2017-01-02</td>\n",
              "      <td>False</td>\n",
              "      <td>201701</td>\n",
              "      <td>1</td>\n",
              "    </tr>\n",
              "    <tr>\n",
              "      <th>1198316</th>\n",
              "      <td>Application_1350494635</td>\n",
              "      <td>Home improvement</td>\n",
              "      <td>20000.0</td>\n",
              "      <td>2017-01-16</td>\n",
              "      <td>True</td>\n",
              "      <td>201703</td>\n",
              "      <td>1</td>\n",
              "    </tr>\n",
              "  </tbody>\n",
              "</table>\n",
              "<p>238942 rows × 7 columns</p>\n",
              "</div>"
            ],
            "text/plain": [
              "                 application_id                LoanGoal  ...  week_of_year quarter\n",
              "0         Application_652823628  Existing loan takeover  ...        201553       1\n",
              "1         Application_652823628  Existing loan takeover  ...        201553       1\n",
              "5         Application_652823628  Existing loan takeover  ...        201553       1\n",
              "8         Application_652823628  Existing loan takeover  ...        201553       1\n",
              "15        Application_652823628  Existing loan takeover  ...        201553       1\n",
              "...                         ...                     ...  ...           ...     ...\n",
              "1198299  Application_1350494635        Home improvement  ...        201652       4\n",
              "1198303  Application_1350494635        Home improvement  ...        201652       4\n",
              "1198305  Application_1350494635        Home improvement  ...        201701       1\n",
              "1198312  Application_1350494635        Home improvement  ...        201701       1\n",
              "1198316  Application_1350494635        Home improvement  ...        201703       1\n",
              "\n",
              "[238942 rows x 7 columns]"
            ]
          },
          "metadata": {
            "tags": []
          },
          "execution_count": 212
        }
      ]
    },
    {
      "cell_type": "markdown",
      "metadata": {
        "id": "XHI6tTCU1nlv",
        "colab_type": "text"
      },
      "source": [
        "**Checking for missing values**"
      ]
    },
    {
      "cell_type": "code",
      "metadata": {
        "id": "9PiYxJXN1qnl",
        "colab_type": "code",
        "colab": {
          "base_uri": "https://localhost:8080/",
          "height": 153
        },
        "outputId": "c1ccbf75-e87e-4b47-ecb6-e9ce4da396a7"
      },
      "source": [
        "app_temp_df.isnull().sum()"
      ],
      "execution_count": 213,
      "outputs": [
        {
          "output_type": "execute_result",
          "data": {
            "text/plain": [
              "application_id        0\n",
              "LoanGoal              0\n",
              "RequestedAmount       0\n",
              "week                  0\n",
              "finished_this_week    0\n",
              "week_of_year          0\n",
              "quarter               0\n",
              "dtype: int64"
            ]
          },
          "metadata": {
            "tags": []
          },
          "execution_count": 213
        }
      ]
    },
    {
      "cell_type": "markdown",
      "metadata": {
        "id": "0q8MfCBfWzF0",
        "colab_type": "text"
      },
      "source": [
        "**Removing duplicates**"
      ]
    },
    {
      "cell_type": "code",
      "metadata": {
        "id": "imlSrS_4VNMv",
        "colab_type": "code",
        "colab": {}
      },
      "source": [
        "app_temp_df = app_temp_df.drop_duplicates().reset_index(drop=True)"
      ],
      "execution_count": 214,
      "outputs": []
    },
    {
      "cell_type": "markdown",
      "metadata": {
        "id": "IPr-SWQOTrFa",
        "colab_type": "text"
      },
      "source": [
        "**Mergin with cum sum events df**"
      ]
    },
    {
      "cell_type": "code",
      "metadata": {
        "id": "RzUT1RqbSOka",
        "colab_type": "code",
        "colab": {}
      },
      "source": [
        "app_temp_df = pd.merge(app_temp_df, events_per_week_df, on=[\n",
        "                       'application_id', 'week_of_year'])"
      ],
      "execution_count": 215,
      "outputs": []
    },
    {
      "cell_type": "markdown",
      "metadata": {
        "id": "lkoZ1UBGAip2",
        "colab_type": "text"
      },
      "source": [
        "**Editing dataframe to be used in preditcion**"
      ]
    },
    {
      "cell_type": "code",
      "metadata": {
        "id": "PpLoxF4c97G_",
        "colab_type": "code",
        "colab": {
          "base_uri": "https://localhost:8080/",
          "height": 419
        },
        "outputId": "37040887-f3e4-4285-fa1b-b7eeb8d5e8c3"
      },
      "source": [
        "temporal_df = app_temp_df.copy(deep=True)\n",
        "temporal_df.drop(['LoanGoal', 'week', 'quarter'], axis=1, inplace=True)\n",
        "\n",
        "temporal_df.drop_duplicates(inplace=True)\n",
        "temporal_df"
      ],
      "execution_count": 216,
      "outputs": [
        {
          "output_type": "execute_result",
          "data": {
            "text/html": [
              "<div>\n",
              "<style scoped>\n",
              "    .dataframe tbody tr th:only-of-type {\n",
              "        vertical-align: middle;\n",
              "    }\n",
              "\n",
              "    .dataframe tbody tr th {\n",
              "        vertical-align: top;\n",
              "    }\n",
              "\n",
              "    .dataframe thead th {\n",
              "        text-align: right;\n",
              "    }\n",
              "</style>\n",
              "<table border=\"1\" class=\"dataframe\">\n",
              "  <thead>\n",
              "    <tr style=\"text-align: right;\">\n",
              "      <th></th>\n",
              "      <th>application_id</th>\n",
              "      <th>RequestedAmount</th>\n",
              "      <th>finished_this_week</th>\n",
              "      <th>week_of_year</th>\n",
              "      <th>num_events</th>\n",
              "      <th>ac_events</th>\n",
              "    </tr>\n",
              "  </thead>\n",
              "  <tbody>\n",
              "    <tr>\n",
              "      <th>0</th>\n",
              "      <td>Application_652823628</td>\n",
              "      <td>20000.0</td>\n",
              "      <td>False</td>\n",
              "      <td>201553</td>\n",
              "      <td>5</td>\n",
              "      <td>5</td>\n",
              "    </tr>\n",
              "    <tr>\n",
              "      <th>1</th>\n",
              "      <td>Application_652823628</td>\n",
              "      <td>20000.0</td>\n",
              "      <td>True</td>\n",
              "      <td>201602</td>\n",
              "      <td>4</td>\n",
              "      <td>9</td>\n",
              "    </tr>\n",
              "    <tr>\n",
              "      <th>2</th>\n",
              "      <td>Application_1691306052</td>\n",
              "      <td>10000.0</td>\n",
              "      <td>False</td>\n",
              "      <td>201553</td>\n",
              "      <td>5</td>\n",
              "      <td>5</td>\n",
              "    </tr>\n",
              "    <tr>\n",
              "      <th>3</th>\n",
              "      <td>Application_1691306052</td>\n",
              "      <td>10000.0</td>\n",
              "      <td>True</td>\n",
              "      <td>201601</td>\n",
              "      <td>2</td>\n",
              "      <td>7</td>\n",
              "    </tr>\n",
              "    <tr>\n",
              "      <th>4</th>\n",
              "      <td>Application_428409768</td>\n",
              "      <td>15000.0</td>\n",
              "      <td>False</td>\n",
              "      <td>201553</td>\n",
              "      <td>5</td>\n",
              "      <td>5</td>\n",
              "    </tr>\n",
              "    <tr>\n",
              "      <th>...</th>\n",
              "      <td>...</td>\n",
              "      <td>...</td>\n",
              "      <td>...</td>\n",
              "      <td>...</td>\n",
              "      <td>...</td>\n",
              "      <td>...</td>\n",
              "    </tr>\n",
              "    <tr>\n",
              "      <th>85461</th>\n",
              "      <td>Application_303923658</td>\n",
              "      <td>30000.0</td>\n",
              "      <td>False</td>\n",
              "      <td>201703</td>\n",
              "      <td>3</td>\n",
              "      <td>8</td>\n",
              "    </tr>\n",
              "    <tr>\n",
              "      <th>85462</th>\n",
              "      <td>Application_303923658</td>\n",
              "      <td>30000.0</td>\n",
              "      <td>True</td>\n",
              "      <td>201704</td>\n",
              "      <td>3</td>\n",
              "      <td>11</td>\n",
              "    </tr>\n",
              "    <tr>\n",
              "      <th>85463</th>\n",
              "      <td>Application_1350494635</td>\n",
              "      <td>20000.0</td>\n",
              "      <td>False</td>\n",
              "      <td>201652</td>\n",
              "      <td>3</td>\n",
              "      <td>3</td>\n",
              "    </tr>\n",
              "    <tr>\n",
              "      <th>85464</th>\n",
              "      <td>Application_1350494635</td>\n",
              "      <td>20000.0</td>\n",
              "      <td>False</td>\n",
              "      <td>201701</td>\n",
              "      <td>2</td>\n",
              "      <td>5</td>\n",
              "    </tr>\n",
              "    <tr>\n",
              "      <th>85465</th>\n",
              "      <td>Application_1350494635</td>\n",
              "      <td>20000.0</td>\n",
              "      <td>True</td>\n",
              "      <td>201703</td>\n",
              "      <td>1</td>\n",
              "      <td>6</td>\n",
              "    </tr>\n",
              "  </tbody>\n",
              "</table>\n",
              "<p>84908 rows × 6 columns</p>\n",
              "</div>"
            ],
            "text/plain": [
              "               application_id  RequestedAmount  ...  num_events ac_events\n",
              "0       Application_652823628          20000.0  ...           5         5\n",
              "1       Application_652823628          20000.0  ...           4         9\n",
              "2      Application_1691306052          10000.0  ...           5         5\n",
              "3      Application_1691306052          10000.0  ...           2         7\n",
              "4       Application_428409768          15000.0  ...           5         5\n",
              "...                       ...              ...  ...         ...       ...\n",
              "85461   Application_303923658          30000.0  ...           3         8\n",
              "85462   Application_303923658          30000.0  ...           3        11\n",
              "85463  Application_1350494635          20000.0  ...           3         3\n",
              "85464  Application_1350494635          20000.0  ...           2         5\n",
              "85465  Application_1350494635          20000.0  ...           1         6\n",
              "\n",
              "[84908 rows x 6 columns]"
            ]
          },
          "metadata": {
            "tags": []
          },
          "execution_count": 216
        }
      ]
    },
    {
      "cell_type": "markdown",
      "metadata": {
        "id": "1bBqEW61W-ze",
        "colab_type": "text"
      },
      "source": [
        "**Splitting data in train and test (70/30)**"
      ]
    },
    {
      "cell_type": "code",
      "metadata": {
        "id": "-fzHRAREFQBh",
        "colab_type": "code",
        "colab": {}
      },
      "source": [
        "X_train, X_test = train_test_split(temporal_df['application_id'].drop_duplicates(), test_size=0.3)\n",
        "X_train = temporal_df.merge(X_train, on=\"application_id\")\n",
        "X_test = temporal_df.merge(X_test, on=\"application_id\")\n",
        "\n",
        "y_test = X_test['finished_this_week']\n",
        "y_train = X_train['finished_this_week']\n"
      ],
      "execution_count": 217,
      "outputs": []
    },
    {
      "cell_type": "markdown",
      "metadata": {
        "id": "mqwcGbxesrMn",
        "colab_type": "text"
      },
      "source": [
        "**Checking if the same application isn't in both train and test sets**"
      ]
    },
    {
      "cell_type": "code",
      "metadata": {
        "id": "z0ZT-51esy97",
        "colab_type": "code",
        "colab": {}
      },
      "source": [
        "apps_id_test = X_test['application_id'].unique()\n",
        "apps_id_train = X_train['application_id'].unique()\n",
        "\n",
        "assert np.intersect1d(apps_id_test, apps_id_train).size == 0"
      ],
      "execution_count": 218,
      "outputs": []
    },
    {
      "cell_type": "markdown",
      "metadata": {
        "id": "rt7mOUxwuTDn",
        "colab_type": "text"
      },
      "source": [
        "**Removind uneeded columns**"
      ]
    },
    {
      "cell_type": "code",
      "metadata": {
        "id": "zgjXIft9uWUI",
        "colab_type": "code",
        "colab": {}
      },
      "source": [
        "X_train.drop(['application_id', 'finished_this_week'], axis=1, inplace=True)\n",
        "X_test.drop(['application_id', 'finished_this_week'], axis=1, inplace=True)"
      ],
      "execution_count": 219,
      "outputs": []
    },
    {
      "cell_type": "markdown",
      "metadata": {
        "id": "IKAZ65RIF24U",
        "colab_type": "text"
      },
      "source": [
        "### Classifiers"
      ]
    },
    {
      "cell_type": "markdown",
      "metadata": {
        "id": "efxV9S7A5SBC",
        "colab_type": "text"
      },
      "source": [
        "Creating auxiliary function to get the acurracy of the models"
      ]
    },
    {
      "cell_type": "code",
      "metadata": {
        "id": "4RWj1KWu5k6j",
        "colab_type": "code",
        "colab": {}
      },
      "source": [
        "def get_model_accuracy(clf_name, clf):\n",
        "    training_accry = clf.score(X_train, y_train)\n",
        "    test_accry = clf.score(X_test, y_test)\n",
        "\n",
        "    clf_str = 'Acurracy of {} classifer on'.format(clf_name)\n",
        "    model_acurracy_str = '{} {} set {:.2f}\\n{} {} set {:.2f}'.format(\n",
        "        clf_str, 'training', training_accry, clf_str, 'test', test_accry)\n",
        "\n",
        "    return model_acurracy_str"
      ],
      "execution_count": 220,
      "outputs": []
    },
    {
      "cell_type": "markdown",
      "metadata": {
        "id": "FbfOQnvaGYCE",
        "colab_type": "text"
      },
      "source": [
        "**Logistic Regression**"
      ]
    },
    {
      "cell_type": "code",
      "metadata": {
        "id": "gdRZ-CVGFghy",
        "colab_type": "code",
        "colab": {
          "base_uri": "https://localhost:8080/",
          "height": 51
        },
        "outputId": "66ffead6-5d46-4d9e-e5e6-307e44e3856b"
      },
      "source": [
        "logreg = LogisticRegression()\n",
        "logreg.fit(X_train, y_train)\n",
        "\n",
        "print(get_model_accuracy('Logistic Regression', logreg))"
      ],
      "execution_count": 221,
      "outputs": [
        {
          "output_type": "stream",
          "text": [
            "Acurracy of Logistic Regression classifer on training set 0.63\n",
            "Acurracy of Logistic Regression classifer on test set 0.63\n"
          ],
          "name": "stdout"
        }
      ]
    },
    {
      "cell_type": "markdown",
      "metadata": {
        "id": "AAzz1fIcGezk",
        "colab_type": "text"
      },
      "source": [
        "**Decision Tree**"
      ]
    },
    {
      "cell_type": "code",
      "metadata": {
        "id": "pQj37i95F53f",
        "colab_type": "code",
        "colab": {
          "base_uri": "https://localhost:8080/",
          "height": 51
        },
        "outputId": "c81d5476-d870-4a72-dabb-816e4e2be679"
      },
      "source": [
        "clf = DecisionTreeClassifier().fit(X_train, y_train)\n",
        "\n",
        "print(get_model_accuracy('Decision Tree', clf))"
      ],
      "execution_count": 222,
      "outputs": [
        {
          "output_type": "stream",
          "text": [
            "Acurracy of Decision Tree classifer on training set 0.91\n",
            "Acurracy of Decision Tree classifer on test set 0.79\n"
          ],
          "name": "stdout"
        }
      ]
    },
    {
      "cell_type": "markdown",
      "metadata": {
        "id": "xiEkHpL9Gyy6",
        "colab_type": "text"
      },
      "source": [
        "**K-Nearest Neighbors**"
      ]
    },
    {
      "cell_type": "code",
      "metadata": {
        "id": "jYCBydFRGoBd",
        "colab_type": "code",
        "colab": {
          "base_uri": "https://localhost:8080/",
          "height": 51
        },
        "outputId": "02a7f355-08dc-4dc8-9280-66476f63b4bd"
      },
      "source": [
        "knn = KNeighborsClassifier()\n",
        "knn.fit(X_train, y_train)\n",
        "\n",
        "print(get_model_accuracy('K-NN', knn))"
      ],
      "execution_count": 223,
      "outputs": [
        {
          "output_type": "stream",
          "text": [
            "Acurracy of K-NN classifer on training set 0.84\n",
            "Acurracy of K-NN classifer on test set 0.78\n"
          ],
          "name": "stdout"
        }
      ]
    },
    {
      "cell_type": "markdown",
      "metadata": {
        "id": "ERu_rF8NG0fH",
        "colab_type": "text"
      },
      "source": [
        "**Linear Discriminant Analysis**"
      ]
    },
    {
      "cell_type": "code",
      "metadata": {
        "id": "8jcz_CNyGq-H",
        "colab_type": "code",
        "colab": {
          "base_uri": "https://localhost:8080/",
          "height": 51
        },
        "outputId": "dd7c3358-899d-49d7-b3a0-7e86ddae3e7b"
      },
      "source": [
        "lda = LinearDiscriminantAnalysis()\n",
        "lda.fit(X_train, y_train)\n",
        "\n",
        "print(get_model_accuracy('LDA', lda))"
      ],
      "execution_count": 224,
      "outputs": [
        {
          "output_type": "stream",
          "text": [
            "Acurracy of LDA classifer on training set 0.79\n",
            "Acurracy of LDA classifer on test set 0.79\n"
          ],
          "name": "stdout"
        }
      ]
    },
    {
      "cell_type": "markdown",
      "metadata": {
        "id": "OKC5vvz4HG_s",
        "colab_type": "text"
      },
      "source": [
        "**Gaussian Naive Bayes**"
      ]
    },
    {
      "cell_type": "code",
      "metadata": {
        "id": "ou1yD8_DG5ju",
        "colab_type": "code",
        "colab": {
          "base_uri": "https://localhost:8080/",
          "height": 51
        },
        "outputId": "38904172-4a48-4a0f-9652-70bce278509e"
      },
      "source": [
        "gnb = GaussianNB()\n",
        "gnb.fit(X_train, y_train)\n",
        "\n",
        "print(get_model_accuracy('GNB', gnb))"
      ],
      "execution_count": 225,
      "outputs": [
        {
          "output_type": "stream",
          "text": [
            "Acurracy of GNB classifer on training set 0.76\n",
            "Acurracy of GNB classifer on test set 0.76\n"
          ],
          "name": "stdout"
        }
      ]
    },
    {
      "cell_type": "markdown",
      "metadata": {
        "id": "utw0Zsz-HccK",
        "colab_type": "text"
      },
      "source": [
        "**Random Forest**"
      ]
    },
    {
      "cell_type": "code",
      "metadata": {
        "id": "-8eARGdlHfP2",
        "colab_type": "code",
        "colab": {
          "base_uri": "https://localhost:8080/",
          "height": 51
        },
        "outputId": "4826bc40-6bee-4161-87cb-1737c86d2977"
      },
      "source": [
        "clf = RandomForestClassifier(n_estimators=100, random_state=0)\n",
        "clf.fit(X_train,y_train)\n",
        "\n",
        "y_pred=clf.predict(X_test)\n",
        "\n",
        "print(get_model_accuracy('Random Forest', clf))"
      ],
      "execution_count": 226,
      "outputs": [
        {
          "output_type": "stream",
          "text": [
            "Acurracy of Random Forest classifer on training set 0.91\n",
            "Acurracy of Random Forest classifer on test set 0.80\n"
          ],
          "name": "stdout"
        }
      ]
    },
    {
      "cell_type": "markdown",
      "metadata": {
        "id": "6efn6C9oBhM5",
        "colab_type": "text"
      },
      "source": [
        "The random forest was the classifier with the better results in both training and test sets in comparision to the others used during this stage."
      ]
    },
    {
      "cell_type": "markdown",
      "metadata": {
        "id": "Ywqhlrt8akhv",
        "colab_type": "text"
      },
      "source": [
        "###Model evaluation"
      ]
    },
    {
      "cell_type": "markdown",
      "metadata": {
        "id": "8tHgdIpBbYiT",
        "colab_type": "text"
      },
      "source": [
        "**After running the classifiers, the Random Forest Classifier had a good result in both training and test set, thus it was used for the evaluation using some performance metrics**"
      ]
    },
    {
      "cell_type": "markdown",
      "metadata": {
        "id": "7HzWn8tyrM3-",
        "colab_type": "text"
      },
      "source": [
        "\n",
        "\n",
        "*   **Accuracy:** the ratio of correctly predicted observation to the total observations\n",
        "*   **Precision:** proportion of positive identifications that was actually correct\n",
        "*   **Recall**: proportion of actual positives that was identified correctly\n",
        "* **F1 Score:** weighted average of Precision and Recall\n",
        "\n",
        "\n",
        "\n"
      ]
    },
    {
      "cell_type": "code",
      "metadata": {
        "id": "JAX5krfjbcZ_",
        "colab_type": "code",
        "colab": {
          "base_uri": "https://localhost:8080/",
          "height": 85
        },
        "outputId": "5b64d8cc-894c-46e1-c476-82ed47b17b2d"
      },
      "source": [
        "accuracy = metrics.accuracy_score(y_test, y_pred)\n",
        "recall = metrics.recall_score(y_test, y_pred)\n",
        "precision = metrics.precision_score(y_test, y_pred)\n",
        "f1_score = metrics.f1_score(y_test, y_pred)\n",
        "\n",
        "print('Accuracy: ', accuracy)\n",
        "print('Recall: ', recall)\n",
        "print('Precision: ', precision)\n",
        "print('F1 Score: ', f1_score)"
      ],
      "execution_count": 227,
      "outputs": [
        {
          "output_type": "stream",
          "text": [
            "Accuracy:  0.799639413655248\n",
            "Recall:  0.7731324278438031\n",
            "Precision:  0.7101364522417154\n",
            "F1 Score:  0.7402966876651088\n"
          ],
          "name": "stdout"
        }
      ]
    },
    {
      "cell_type": "markdown",
      "metadata": {
        "id": "zhMWfZvcEyRE",
        "colab_type": "text"
      },
      "source": [
        "To evaluate the effectiveness of the model it's important to look not only for the acurracy, but also the Recall, Precision and F1 Score metrics.\n",
        "\n",
        "Recall and precision are often in tension, in other words, improving one reduces another and vice versa. So that it's importante to also calculate the F1 Score to seek a balance between precision and recall."
      ]
    },
    {
      "cell_type": "markdown",
      "metadata": {
        "id": "qLYr7fhC2F8J",
        "colab_type": "text"
      },
      "source": [
        "**Confusion Matrix**"
      ]
    },
    {
      "cell_type": "code",
      "metadata": {
        "id": "Yz74F49jhuDo",
        "colab_type": "code",
        "colab": {
          "base_uri": "https://localhost:8080/",
          "height": 565
        },
        "outputId": "ba068118-c5f7-4f67-c3e1-1696448e8377"
      },
      "source": [
        "plt.figure(figsize=(15, 9))\n",
        "\n",
        "ax = (sns.heatmap(metrics.confusion_matrix(y_test, y_pred), annot=True, annot_kws={\"size\": 20}, \n",
        "                 linewidths=.1, fmt='d', cmap='YlGnBu'))\n",
        "plt.yticks([0.5,1.5,2], [ 'Week ok', 'Week not ok'], va='center', fontsize=15)\n",
        "plt.xticks([0.5,1.5,2], [ 'Week ok', 'Week not ok'], va='center', fontsize=15)\n",
        "ax.set_title(\"Confusion Matrix\")\n",
        "ax.set(xlabel=\"Predicted\", ylabel=\"Actual\")\n",
        "bottom, top = ax.get_ylim()\n",
        "ax.set_ylim(bottom + 0.05, top - 0.02)\n",
        "\n",
        "plt.show()"
      ],
      "execution_count": 228,
      "outputs": [
        {
          "output_type": "display_data",
          "data": {
            "image/png": "[encoded data removed]",
            "text/plain": [
              "<Figure size 1080x648 with 2 Axes>"
            ]
          },
          "metadata": {
            "tags": [],
            "needs_background": "light"
          }
        }
      ]
    },
    {
      "cell_type": "markdown",
      "metadata": {
        "id": "_IkiLshA8lwZ",
        "colab_type": "text"
      },
      "source": [
        "**Features Importances**"
      ]
    },
    {
      "cell_type": "code",
      "metadata": {
        "id": "zKnYXyk6leUN",
        "colab_type": "code",
        "colab": {
          "base_uri": "https://localhost:8080/",
          "height": 526
        },
        "outputId": "1702edc8-5185-402c-f7e5-b69fc814bcf8"
      },
      "source": [
        "feature_list = X_train.columns\n",
        "feature_imp = pd.Series(clf.feature_importances_, index = feature_list)\n",
        "\n",
        "plt.figure(figsize=(13.8, 8))\n",
        "plt.style.use('fivethirtyeight')\n",
        "\n",
        "x_values = list(range(len(feature_imp)))\n",
        "plt.bar(x_values, feature_imp, orientation = 'vertical')\n",
        "plt.xticks(x_values, feature_list)\n",
        "plt.ylabel('Importance'); plt.xlabel('Feature'); plt.title('Feature Importances')\n",
        "\n",
        "plt.show()"
      ],
      "execution_count": 229,
      "outputs": [
        {
          "output_type": "display_data",
          "data": {
            "image/png": "[encoded data removed]",
            "text/plain": [
              "<Figure size 993.6x576 with 1 Axes>"
            ]
          },
          "metadata": {
            "tags": [],
            "needs_background": "light"
          }
        }
      ]
    },
    {
      "cell_type": "markdown",
      "metadata": {
        "id": "KQ4HTbTVEBSh",
        "colab_type": "text"
      },
      "source": [
        "The cumalative sum of events per application was the most important feature in the model, one explanation is that the higher the number of events the higher the chance that the application will end that week, because there is some events that must happend before an application gets to the final stage."
      ]
    },
    {
      "cell_type": "markdown",
      "metadata": {
        "id": "mzwUVp0SBczH",
        "colab_type": "text"
      },
      "source": [
        "#Conclusions\n",
        "\n",
        "In this notebook, we explored data of a real-life event log from a Dutch financial institute with the objective to practice data science and to find insights and acquire knowledge.\n",
        "\n",
        "We analyzed the applications activities per month and week, observing the more frequent ones and their distribution.\n",
        "\n",
        "Then, we built a classification model using Random Forest to predicte if the application will finish in the current week. Our model had an acurracy of 80% in our tests.\n",
        "\n",
        "The results were good for the initial pourpose, but it's still possible to improve our model by trying new combinantions of features, improving the data split, trying diffrent paramaters in the classifers among others."
      ]
    }
  ]
}
